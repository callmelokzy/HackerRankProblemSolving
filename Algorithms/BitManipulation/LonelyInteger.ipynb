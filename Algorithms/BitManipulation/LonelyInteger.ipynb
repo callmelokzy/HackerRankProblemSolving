{
 "cells": [
  {
   "attachments": {},
   "cell_type": "markdown",
   "metadata": {},
   "source": [
    "## Lonely Integer\n",
    "\n",
    "___________________________________________________________________\n",
    "\n",
    "Problem: https://www.hackerrank.com/challenges/lonely-integer/problem?isFullScreen=true\n",
    "\n",
    "Task: Given an array of integers, where all elements but one occur twice, find the unique element.\n",
    "\n",
    "Logic:\n",
    "The idea behind using bit manipulation to solve this problem is that the XOR operator has a property that if we XOR a number with itself, the result is always 0. So if we XOR all the elements in the array, all the elements that appear twice will cancel out and the only element that will be left is the lonely integer.\n",
    "\n",
    "Here's how it works:\n",
    "\n",
    "        1. Initialize a variable 'result' to 0. This variable will be used to store the final result.\n",
    "        2. Iterate through the array 'a' using a for loop.\n",
    "        3. For each element in the array, perform an XOR operation with the 'result' variable.\n",
    "        4. The result of the XOR operation is stored in the 'result' variable, and the next element is XORed with the current value of 'result'.\n",
    "        5. After iterating through the entire array, the 'result' variable will contain the XOR of all the elements in the array.\n",
    "        6. Since all the elements that appear twice will cancel out, the 'result' variable will contain the lonely integer.\n",
    "        7. Return the 'result' variable as the final output.\n",
    "        \n",
    "So the algorithm takes advantage of the property of the XOR operator that XORing a number with itself results in 0. Since the lonely integer is the only number that appears once in the array, it is the only number that will not cancel out when all the elements are XORed together.\n",
    "\n",
    "\n",
    "\n",
    "Implementation: 👇"
   ]
  },
  {
   "cell_type": "code",
   "execution_count": 1,
   "metadata": {},
   "outputs": [
    {
     "data": {
      "text/plain": [
       "4"
      ]
     },
     "execution_count": 1,
     "metadata": {},
     "output_type": "execute_result"
    }
   ],
   "source": [
    "#!/bin/python3\n",
    "\n",
    "import math\n",
    "import os\n",
    "import random\n",
    "import re\n",
    "import sys\n",
    "\n",
    "#\n",
    "# Complete the 'lonelyinteger' function below.\n",
    "#\n",
    "# The function is expected to return an INTEGER.\n",
    "# The function accepts INTEGER_ARRAY a as parameter.\n",
    "#\n",
    "\n",
    "# solution 1 using bit manipulation\n",
    " # The time complexity of this solution is O(n) and the space complexity is O(1)\n",
    "\n",
    "def lonelyinteger(a):\n",
    "    result = 0\n",
    "    for i in a:\n",
    "        result ^= i\n",
    "    return result\n",
    "\n",
    "\n",
    "a = [1,2,3,4,3,2,1]\n",
    "lonelyinteger(a)"
   ]
  }
 ],
 "metadata": {
  "kernelspec": {
   "display_name": "Python 3 (ipykernel)",
   "language": "python",
   "name": "python3"
  },
  "language_info": {
   "codemirror_mode": {
    "name": "ipython",
    "version": 3
   },
   "file_extension": ".py",
   "mimetype": "text/x-python",
   "name": "python",
   "nbconvert_exporter": "python",
   "pygments_lexer": "ipython3",
   "version": "3.10.6"
  },
  "orig_nbformat": 4
 },
 "nbformat": 4,
 "nbformat_minor": 2
}
