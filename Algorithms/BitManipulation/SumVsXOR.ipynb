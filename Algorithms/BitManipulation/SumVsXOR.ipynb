{
 "cells": [
  {
   "attachments": {},
   "cell_type": "markdown",
   "id": "a31815b9",
   "metadata": {},
   "source": [
    "## Sum vs XOR\n",
    "\n",
    "___________________________________________________________________\n",
    "\n",
    "Problem: https://www.hackerrank.com/challenges/sum-vs-xor/problem?isFullScreen=true\n",
    "\n",
    "\n",
    "Working: \n",
    "        we can take advantage of the fact that for any number x, (n + x) will always be greater than (n ^ x) if the rightmost common bit of n and x is 0. We can use this property to count the number of numbers that have a 0 in the rightmost common bit with n. We can then use this count to calculate the number of numbers that have a 1 in the rightmost common bit with n by subtracting it from n.\n",
    "\n",
    "\n",
    "Implementation: 👇\n",
    "\n",
    "# Time complexity:  (log n) as it uses bit manipulation to count the number of trailing zeroes in the binary representation of n\n",
    "# Space complexity: O O(1) as we are only using a variable count to store the number of pairs that satisfy the condition (n + x) == (n ^ x). "
   ]
  },
  {
   "cell_type": "code",
   "execution_count": 6,
   "id": "87097d74",
   "metadata": {
    "vscode": {
     "languageId": "python"
    }
   },
   "outputs": [
    {
     "data": {
      "text/plain": [
       "4"
      ]
     },
     "execution_count": 6,
     "metadata": {},
     "output_type": "execute_result"
    }
   ],
   "source": [
    "#!/bin/python3\n",
    "\n",
    "import math\n",
    "import os\n",
    "import random\n",
    "import re\n",
    "import sys\n",
    "\n",
    "#\n",
    "# Complete the 'sumXor' function below.\n",
    "#\n",
    "# The function is expected to return a LONG_INTEGER.\n",
    "# The function accepts LONG_INTEGER n as parameter.\n",
    "#\n",
    "\n",
    "def sumXor(n):\n",
    "    count = 0\n",
    "    while n:\n",
    "        count += (n % 2 == 0)\n",
    "        n >>= 1\n",
    "    return 1 << count\n",
    "\n",
    "    \n",
    "    \n",
    "\n",
    "    \n",
    "n = 10\n",
    "sumXor(n)"
   ]
  }
 ],
 "metadata": {
  "kernelspec": {
   "display_name": "Python 3 (ipykernel)",
   "language": "python",
   "name": "python3"
  }
 },
 "nbformat": 4,
 "nbformat_minor": 5
}
