{
 "cells": [
  {
   "attachments": {},
   "cell_type": "markdown",
   "id": "a31815b9",
   "metadata": {},
   "source": [
    "## Maximizing XOR\n",
    "\n",
    "___________________________________________________________________\n",
    "\n",
    "Problem: https://www.hackerrank.com/challenges/maximizing-xor/problem?isFullScreen=false\n",
    "\n",
    "Task: Given two integers, l and r, find the maximal value of a xor b, where a and b satisfy the following condition: l<= a<=b<=r\n",
    "\n",
    "\n",
    "Working: \n",
    "    The algorithm starts by initializing the variable max_xor to 0 and a loop that iterates through the integers from l to r. Inside the loop, the max_xor is updated by using the bitwise XOR operator (^) to take the XOR of the current value of max_xor and the current integer in the loop.\n",
    "    \n",
    "    Then it initialize a variable res with 1 and enters a while loop which will run as long as res is less than or equal to max_xor. Inside the while loop, the res is left shifted by 1 (i.e. res = res << 1) each time the loop runs.\n",
    "    \n",
    "    After the while loop the function returns the value of res-1, which is the maximum possible XOR value that can be obtained by using any two integers in the range of l and r.\n",
    "\n",
    "\n",
    "\n",
    "\n",
    "\n",
    "\n",
    "Implementation: 👇\n",
    "\n",
    "# Time complexity:  O(1) as it only iterates through all the bits of the number once.\n",
    "# Space complexity: O(1) as we are only using a fixed number of variables."
   ]
  },
  {
   "cell_type": "code",
   "execution_count": 4,
   "id": "87097d74",
   "metadata": {
    "vscode": {
     "languageId": "python"
    }
   },
   "outputs": [
    {
     "data": {
      "text/plain": [
       "1"
      ]
     },
     "execution_count": 4,
     "metadata": {},
     "output_type": "execute_result"
    }
   ],
   "source": [
    "#!/bin/python3\n",
    "\n",
    "import math\n",
    "import os\n",
    "import random\n",
    "import re\n",
    "import sys\n",
    "\n",
    "#\n",
    "# Complete the 'maximizingXor' function below.\n",
    "#\n",
    "# The function is expected to return an INTEGER.\n",
    "# The function accepts following parameters:\n",
    "#  1. INTEGER l\n",
    "#  2. INTEGER r\n",
    "#\n",
    "\n",
    "def maximizingXor(l, r):\n",
    "    max_xor = 0\n",
    "    for i in range(l,r+1):\n",
    "        max_xor ^= i\n",
    "    res = 1\n",
    "    while (res <= max_xor):\n",
    "        res = res << 1\n",
    "    return res-1\n",
    "\n",
    "\n",
    "\n",
    "\n",
    "l = 10\n",
    "r = 15\n",
    "maximizingXor(l,r)"
   ]
  }
 ],
 "metadata": {
  "kernelspec": {
   "display_name": "Python 3 (ipykernel)",
   "language": "python",
   "name": "python3"
  }
 },
 "nbformat": 4,
 "nbformat_minor": 5
}
