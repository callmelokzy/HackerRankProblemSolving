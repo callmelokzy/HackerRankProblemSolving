{
 "cells": [
  {
   "attachments": {},
   "cell_type": "markdown",
   "id": "a31815b9",
   "metadata": {},
   "source": [
    "## Flipping bits\n",
    "\n",
    "___________________________________________________________________\n",
    "\n",
    "Problem: https://www.hackerrank.com/challenges/sum-vs-xor/problem?isFullScreen=true\n",
    "\n",
    "\n",
    "Working: \n",
    "   we are using the bitwise XOR operator (^) to flip all the bits. The value 0xFFFFFFFF is a 32-bit unsigned integer with all bits set to 1. When we XOR n with this value, it flips all the bits in n. \n",
    "   \n",
    "   The space complexity of this solution is O(1), as we are not using any additional data structures.\n",
    "\n",
    "Implementation: 👇"
   ]
  },
  {
   "cell_type": "code",
   "execution_count": null,
   "id": "87097d74",
   "metadata": {
    "vscode": {
     "languageId": "python"
    }
   },
   "outputs": [
    {
     "ename": "",
     "evalue": "",
     "output_type": "error",
     "traceback": [
      "\u001b[1;31mFailed to start the Kernel. \n",
      "\u001b[1;31mFailed to start the Kernel 'Python 3 (ipykernel)'. \n",
      "\u001b[1;31mView Jupyter <a href='command:jupyter.viewOutput'>log</a> for further details. spawn ENOTDIR"
     ]
    }
   ],
   "source": [
    "#!/bin/python3\n",
    "\n",
    "import math\n",
    "import os\n",
    "import random\n",
    "import re\n",
    "import sys\n",
    "\n",
    "#\n",
    "# Complete the 'flippingBits' function below.\n",
    "#\n",
    "# The function is expected to return a LONG_INTEGER.\n",
    "# The function accepts LONG_INTEGER n as parameter.\n",
    "#\n",
    "\n",
    "def flippingBits(n):\n",
    "    return n ^ 0xFFFFFFFF\n",
    "\n",
    "\n",
    "    \n",
    "\n",
    "    \n",
    "    \n",
    "n = 4\n",
    "flippingBits(n)"
   ]
  }
 ],
 "metadata": {
  "kernelspec": {
   "display_name": "Python 3 (ipykernel)",
   "language": "python",
   "name": "python3"
  }
 },
 "nbformat": 4,
 "nbformat_minor": 5
}
