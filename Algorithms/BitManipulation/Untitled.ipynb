{
 "cells": [
  {
   "attachments": {},
   "cell_type": "markdown",
   "id": "a31815b9",
   "metadata": {},
   "source": [
    "## Lonely Integer\n",
    "\n",
    "___________________________________________________________________\n",
    "\n",
    "Problem: https://www.hackerrank.com/challenges/lonely-integer/problem?isFullScreen=true\n",
    "\n",
    "Task: Given an array of integers, where all elements but one occur twice, find the unique element.\n",
    "\n",
    "\n",
    "\n",
    "\n",
    "Implementation: 👇"
   ]
  },
  {
   "cell_type": "code",
   "execution_count": null,
   "id": "87097d74",
   "metadata": {
    "vscode": {
     "languageId": "python"
    }
   },
   "outputs": [
    {
     "ename": "",
     "evalue": "",
     "output_type": "error",
     "traceback": [
      "\u001b[1;31mFailed to start the Kernel. \n",
      "\u001b[1;31mFailed to start the Kernel 'Python 3 (ipykernel)'. \n",
      "\u001b[1;31mView Jupyter <a href='command:jupyter.viewOutput'>log</a> for further details. spawn ENOTDIR"
     ]
    }
   ],
   "source": [
    "print('hello')"
   ]
  }
 ],
 "metadata": {
  "kernelspec": {
   "display_name": "Python 3 (ipykernel)",
   "language": "python",
   "name": "python3"
  }
 },
 "nbformat": 4,
 "nbformat_minor": 5
}
