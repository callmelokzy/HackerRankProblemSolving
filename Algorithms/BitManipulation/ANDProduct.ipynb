{
 "cells": [
  {
   "attachments": {},
   "cell_type": "markdown",
   "metadata": {},
   "source": [
    "## AND Product\n",
    "\n",
    "\n",
    "Problem: https://www.hackerrank.com/challenges/and-product/problem?isFullScreen=true\n",
    "\n",
    "Task: bitwise operator AND\n",
    "\n",
    "\n",
    "Solution:"
   ]
  },
  {
   "cell_type": "code",
   "execution_count": null,
   "metadata": {},
   "outputs": [],
   "source": [
    "#!/bin/python3\n",
    "\n",
    "import math\n",
    "import os\n",
    "import random\n",
    "import re\n",
    "import sys\n",
    "\n",
    "#\n",
    "# Complete the 'andProduct' function below.\n",
    "#\n",
    "# The function is expected to return a LONG_INTEGER.\n",
    "# The function accepts following parameters:\n",
    "#  1. LONG_INTEGER a\n",
    "#  2. LONG_INTEGER b\n",
    "#\n",
    "\n",
    "def andProduct(a, b):\n",
    "    return a & ~((1<<(len(bin(a^b)) - 3)) - 1)"
   ]
  }
 ],
 "metadata": {
  "language_info": {
   "name": "python"
  },
  "orig_nbformat": 4
 },
 "nbformat": 4,
 "nbformat_minor": 2
}
