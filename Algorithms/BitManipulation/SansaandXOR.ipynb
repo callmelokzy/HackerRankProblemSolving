{
 "cells": [
  {
   "attachments": {},
   "cell_type": "markdown",
   "metadata": {},
   "source": [
    "## Sansa and XOR\n",
    "\n",
    "\n",
    "Problem: https://www.hackerrank.com/challenges/sansa-and-xor/problem?isFullScreen=true\n",
    "\n",
    "Task: Given an initial value, determine who wins the game.\n",
    "\n",
    "Solution:"
   ]
  },
  {
   "cell_type": "code",
   "execution_count": null,
   "metadata": {},
   "outputs": [],
   "source": [
    "#!/bin/python3\n",
    "\n",
    "import math\n",
    "import os\n",
    "import random\n",
    "import re\n",
    "import sys\n",
    "\n",
    "#\n",
    "# Complete the 'sansaXor' function below.\n",
    "#\n",
    "# The function is expected to return an INTEGER.\n",
    "# The function accepts INTEGER_ARRAY arr as parameter.\n",
    "#\n",
    "\n",
    "def sansaXor(arr):\n",
    "    n = len(arr)\n",
    "    out = 0\n",
    "    if n%2==0:\n",
    "        return 0\n",
    "    for i in range(0,len(arr),2):\n",
    "        out^=arr[i]\n",
    "    return out"
   ]
  }
 ],
 "metadata": {
  "language_info": {
   "name": "python"
  },
  "orig_nbformat": 4
 },
 "nbformat": 4,
 "nbformat_minor": 2
}
