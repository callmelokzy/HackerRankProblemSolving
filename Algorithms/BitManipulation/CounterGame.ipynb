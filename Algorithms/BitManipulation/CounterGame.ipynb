{
 "cells": [
  {
   "attachments": {},
   "cell_type": "markdown",
   "metadata": {},
   "source": [
    "## Counter game\n",
    "\n",
    "\n",
    "Problem: https://www.hackerrank.com/challenges/counter-game/problem?isFullScreen=true\n",
    "\n",
    "Task: Given an initial value, determine who wins the game.\n",
    "\n",
    "Solution:"
   ]
  },
  {
   "cell_type": "code",
   "execution_count": null,
   "metadata": {},
   "outputs": [],
   "source": [
    "#!/bin/python3\n",
    "\n",
    "import math\n",
    "import os\n",
    "import random\n",
    "import re\n",
    "import sys\n",
    "\n",
    "#\n",
    "# Complete the 'counterGame' function below.\n",
    "#\n",
    "# The function is expected to return a STRING.\n",
    "# The function accepts LONG_INTEGER n as parameter.\n",
    "#\n",
    "\n",
    "def counterGame(n):\n",
    "    player = 0\n",
    "\n",
    "    while n > 1:\n",
    "        if (n & n-1) == 0:\n",
    "            n = n // 2\n",
    "        else:\n",
    "            temp = 1 << (n.bit_length())-1\n",
    "            n -= temp\n",
    "        player += 1\n",
    "\n",
    "    idx = player % 2\n",
    "\n",
    "    if idx == 0:\n",
    "        return 'Richard'\n",
    "    else:\n",
    "        return 'Louise'"
   ]
  }
 ],
 "metadata": {
  "language_info": {
   "name": "python"
  },
  "orig_nbformat": 4
 },
 "nbformat": 4,
 "nbformat_minor": 2
}
