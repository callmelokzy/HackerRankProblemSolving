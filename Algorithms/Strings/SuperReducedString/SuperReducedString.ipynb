{
 "cells": [
  {
   "cell_type": "markdown",
   "id": "03ce9d1b",
   "metadata": {},
   "source": [
    "# #SUPERREDUCEDSTRING\n",
    "\n",
    "[+] Problem: https://www.hackerrank.com/challenges/reduced-string/problem?isFullScreen=true\n",
    "\n",
    "[+] Task:\n",
    "\n",
    "[+] Algorithm:\n",
    "\n",
    "       1. Find elements present in the string\n",
    "       2. Check if the string contain any same two adjacent characters\n",
    "              2.1 if present replace it with ''\n",
    "       4. Continue till there are no two same adjacent characters\n",
    "       5. return string if there is string left after the operation else return 'Empty String'\n",
    "      \n",
    "\n",
    "\n",
    "\n",
    "[+] Implementation:"
   ]
  },
  {
   "cell_type": "code",
   "execution_count": 3,
   "id": "edca2edd",
   "metadata": {},
   "outputs": [
    {
     "data": {
      "text/plain": [
       "'abd'"
      ]
     },
     "execution_count": 3,
     "metadata": {},
     "output_type": "execute_result"
    }
   ],
   "source": [
    "import re\n",
    "\n",
    "def superReducedString(s):\n",
    "    \n",
    "    elements = sorted(set(s))                        #removing duplicates\n",
    "    \n",
    "    for _ in range(len(s)):\n",
    "        for ele in elements:\n",
    "            if ele*2 in s:                             #checking if two same adjacent character present in string\n",
    "                s = (re.sub(ele*2, '', s))             #replacing two adjacent same character with ''<empty>\n",
    "                \n",
    "    return 'Empty String' if not s else s                #returning output\n",
    "\n",
    "\n",
    "\n",
    "#sample input\n",
    "\n",
    "s ='aaabccddd'\n",
    "superReducedString(s)"
   ]
  }
 ],
 "metadata": {
  "kernelspec": {
   "display_name": "Python 3 (ipykernel)",
   "language": "python",
   "name": "python3"
  },
  "language_info": {
   "codemirror_mode": {
    "name": "ipython",
    "version": 3
   },
   "file_extension": ".py",
   "mimetype": "text/x-python",
   "name": "python",
   "nbconvert_exporter": "python",
   "pygments_lexer": "ipython3",
   "version": "3.11.1"
  }
 },
 "nbformat": 4,
 "nbformat_minor": 5
}
