{
 "cells": [
  {
   "cell_type": "markdown",
   "id": "b6036a47",
   "metadata": {},
   "source": [
    "# SUPER REDUCED STRING\n",
    "----------------------------------------------\n",
    "\n",
    "[+]Problem: https://www.hackerrank.com/challenges/reduced-string/problem?isFullScreen=true\n",
    "\n",
    "[+]Task: Reduce a string until there is no two adjacent same character\n",
    "\n",
    "    \n",
    "    \n",
    "[+]Algorithm:\n",
    "\n",
    "    1. Find all characters in the string with exactly only one copy of them\n",
    "    2. Check for any adjacent same characters in the string\n",
    "        2.1 If there is, remove the same adjacent characters\n",
    "    3. Continue step 2 until there are no adjacent same characters\n",
    "    4. Return string s if there is string s else return 'Empty String'\n",
    "\n",
    "\n",
    "\n",
    "\n",
    "[+]Implementation:        "
   ]
  },
  {
   "cell_type": "code",
   "execution_count": 1,
   "id": "4ffbec3d",
   "metadata": {},
   "outputs": [
    {
     "data": {
      "text/plain": [
       "'abd'"
      ]
     },
     "execution_count": 1,
     "metadata": {},
     "output_type": "execute_result"
    }
   ],
   "source": [
    "import re\n",
    "\n",
    "def superReducedString(s):\n",
    "    elements = sorted(set(s))                 #converting input string into set to remove duplicates\n",
    "    \n",
    "    for _ in range(len(s)):\n",
    "        for ele in elements:\n",
    "            if ele*2 in s:                    #checking for two adjacent same character\n",
    "                s = (re.sub(ele*2, '', s))    #replacing two adjacent same characters\n",
    "                \n",
    "    return 'Empty String' if not s else s\n",
    "\n",
    "\n",
    "#sample input\n",
    "a = 'aaabccddd'\n",
    "superReducedString(a)"
   ]
  },
  {
   "cell_type": "code",
   "execution_count": null,
   "id": "d0854738",
   "metadata": {},
   "outputs": [],
   "source": []
  }
 ],
 "metadata": {
  "kernelspec": {
   "display_name": "Python 3 (ipykernel)",
   "language": "python",
   "name": "python3"
  },
  "language_info": {
   "codemirror_mode": {
    "name": "ipython",
    "version": 3
   },
   "file_extension": ".py",
   "mimetype": "text/x-python",
   "name": "python",
   "nbconvert_exporter": "python",
   "pygments_lexer": "ipython3",
   "version": "3.11.1"
  }
 },
 "nbformat": 4,
 "nbformat_minor": 5
}
