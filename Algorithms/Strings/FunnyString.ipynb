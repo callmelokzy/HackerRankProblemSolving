{
 "cells": [
  {
   "cell_type": "markdown",
   "id": "c9f57aa9",
   "metadata": {},
   "source": [
    "## FUNNY STRING\n",
    "--------------------------\n",
    "\n",
    "[+] Problem: https://www.hackerrank.com/challenges/funny-string/problem?isFullScreen=false\n",
    "\n",
    "\n",
    "[+] Task: Determine whether a give string is funny. If it is, return Funny, otherwise return Not Funny.\n",
    "\n",
    "\n",
    "[+] Algorithm:\n",
    "            \n",
    "            1. create a 2 list of conataining absolute difference between adjacent elements in both string s amd reverse of string s respectively\n",
    "            2. Compare both list \n",
    "                2. if same return 'Funny' else return 'Not Funny'\n",
    "                \n",
    "                \n",
    "[+] Implementation:            "
   ]
  },
  {
   "cell_type": "code",
   "execution_count": 23,
   "id": "f517934e",
   "metadata": {},
   "outputs": [
    {
     "data": {
      "text/plain": [
       "'Not Funny'"
      ]
     },
     "execution_count": 23,
     "metadata": {},
     "output_type": "execute_result"
    }
   ],
   "source": [
    "def funnyString(s):\n",
    "    \n",
    "    size = len(s)\n",
    "    \n",
    "    lst1 = list([ord(x) for x in s])\n",
    "    lst2 = list([ord(y) for y in s[::-1]])\n",
    "\n",
    "    \n",
    "    v_lst1 = list([abs(lst1[i]-lst1[i+1]) for i in range(size-1)])\n",
    "    v_lst2 = list([abs(lst2[j]-lst2[j+1]) for j in range(size-1)])\n",
    "    \n",
    "    return 'Funny' if (v_lst1==v_lst2) else 'Not Funny'\n",
    "\n",
    "\n",
    "            \n",
    "              \n",
    "    \n",
    "    \n",
    "#sample input\n",
    "\n",
    "s = 'bcxz'\n",
    "funnyString(s)"
   ]
  }
 ],
 "metadata": {
  "kernelspec": {
   "display_name": "Python 3 (ipykernel)",
   "language": "python",
   "name": "python3"
  },
  "language_info": {
   "codemirror_mode": {
    "name": "ipython",
    "version": 3
   },
   "file_extension": ".py",
   "mimetype": "text/x-python",
   "name": "python",
   "nbconvert_exporter": "python",
   "pygments_lexer": "ipython3",
   "version": "3.11.1"
  }
 },
 "nbformat": 4,
 "nbformat_minor": 5
}
