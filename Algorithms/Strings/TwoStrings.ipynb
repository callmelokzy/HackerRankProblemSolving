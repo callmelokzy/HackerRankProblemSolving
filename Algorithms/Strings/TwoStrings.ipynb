{
 "cells": [
  {
   "cell_type": "markdown",
   "id": "5fda2aab",
   "metadata": {},
   "source": [
    "## Two Strings\n",
    "--------------------\n",
    "\n",
    "[+] Problem: https://www.hackerrank.com/challenges/two-strings/problem?isFullScreen=true\n",
    "\n",
    "\n",
    "[+] Task: Given two strings, determine if they share a common substring.\n",
    "         \n",
    "\n",
    "[+] Implementation:"
   ]
  },
  {
   "cell_type": "code",
   "execution_count": 8,
   "id": "5744d94c",
   "metadata": {},
   "outputs": [
    {
     "data": {
      "text/plain": [
       "'NO'"
      ]
     },
     "execution_count": 8,
     "metadata": {},
     "output_type": "execute_result"
    }
   ],
   "source": [
    "def twoStrings(s1, s2):\n",
    "    strings1 = set([*s1])\n",
    "    strings2 = set([*s2])\n",
    "    intersectedStrings = strings1.intersection(strings2)\n",
    "    if len(intersectedStrings) > 0:\n",
    "        return \"YES\"\n",
    "    return \"NO\"\n",
    "\n",
    "    \n",
    "\n",
    "    \n",
    "#Sample Input\n",
    "s1 = 'hi'\n",
    "s2 = 'world'\n",
    "twoStrings(s1,s2)"
   ]
  },
  {
   "cell_type": "code",
   "execution_count": null,
   "id": "7d012a78",
   "metadata": {},
   "outputs": [],
   "source": []
  }
 ],
 "metadata": {
  "kernelspec": {
   "display_name": "Python 3 (ipykernel)",
   "language": "python",
   "name": "python3"
  },
  "language_info": {
   "codemirror_mode": {
    "name": "ipython",
    "version": 3
   },
   "file_extension": ".py",
   "mimetype": "text/x-python",
   "name": "python",
   "nbconvert_exporter": "python",
   "pygments_lexer": "ipython3",
   "version": "3.11.1"
  }
 },
 "nbformat": 4,
 "nbformat_minor": 5
}
