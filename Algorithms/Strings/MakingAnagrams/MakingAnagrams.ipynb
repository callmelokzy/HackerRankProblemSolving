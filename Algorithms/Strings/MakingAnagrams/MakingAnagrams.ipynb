{
 "cells": [
  {
   "cell_type": "markdown",
   "id": "7e181665",
   "metadata": {},
   "source": [
    "## MAKING ANAGRAMS\n",
    "---------------------------------\n",
    "\n",
    "[+] Problem: https://www.hackerrank.com/challenges/making-anagrams/problem?isFullScreen=true\n",
    "\n",
    "\n",
    "\n",
    "[+] Task: determine the minimum number of character deletions required to make s1 and s2 anagrams.\n",
    "\n",
    "\n",
    "\n",
    "[+] Algorithm:\n",
    "        \n",
    "        1. Create a nested list with two sublist with 26 elements of '0' in each.\n",
    "        2. Now mark '1' for each element in in string 1 in sublist[1] and same for sublist[2]\n",
    "        3. initialise diff = 0\n",
    "        4. Now compare the absolute difference of elements in all indices of both sublists and return the diff value.\n",
    "\n",
    "\n",
    "[+] Implementation:"
   ]
  },
  {
   "cell_type": "code",
   "execution_count": 1,
   "id": "ae220f96",
   "metadata": {},
   "outputs": [
    {
     "data": {
      "text/plain": [
       "4"
      ]
     },
     "execution_count": 1,
     "metadata": {},
     "output_type": "execute_result"
    }
   ],
   "source": [
    "def makingAnagrams(s1, s2):\n",
    "    h = [[0]*26, [0]*26]\n",
    "    for c in s1: \n",
    "        h[0][ord(c)-97]=h[0][ord(c)-97]+1\n",
    "    for c in s2: \n",
    "        h[1][ord(c)-97]=h[1][ord(c)-97]+1\n",
    "    diff = 0\n",
    "    for i in range(26): diff = diff + abs(h[0][i]-h[1][i])\n",
    "    return diff\n",
    "\n",
    "\n",
    "\n",
    "#sampleinput\n",
    "\n",
    "s1 = 'cde'\n",
    "s2 = 'abc'\n",
    "makingAnagrams(s1,s2)"
   ]
  }
 ],
 "metadata": {
  "kernelspec": {
   "display_name": "Python 3 (ipykernel)",
   "language": "python",
   "name": "python3"
  },
  "language_info": {
   "codemirror_mode": {
    "name": "ipython",
    "version": 3
   },
   "file_extension": ".py",
   "mimetype": "text/x-python",
   "name": "python",
   "nbconvert_exporter": "python",
   "pygments_lexer": "ipython3",
   "version": "3.11.1"
  }
 },
 "nbformat": 4,
 "nbformat_minor": 5
}
