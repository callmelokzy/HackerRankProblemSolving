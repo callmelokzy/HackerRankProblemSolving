{
 "cells": [
  {
   "cell_type": "markdown",
   "id": "49e587c1",
   "metadata": {},
   "source": [
    "## String Construction\n",
    "-------------------------------\n",
    "\n",
    "[+]Problem: https://www.hackerrank.com/challenges/string-construction/problem?isFullScreen=false\n",
    "\n",
    "[+]Task: Return the minimum cost of copying a string.\n",
    "\n",
    "[+] Algorithm:\n",
    "\n",
    "        1. Create an empty string 'p' and initialise variable cost=0\n",
    "        2. Add each element 'i' in inout string into p\n",
    "            2.1 if 'i' not in new string 'p' then cost is incremented by 1\n",
    "            2.1 if not cost remains unchanged\n",
    "        3. Return the cost \n",
    "                \n",
    "\n",
    "[+] Implementation"
   ]
  },
  {
   "cell_type": "code",
   "execution_count": 10,
   "id": "961d6d6e",
   "metadata": {},
   "outputs": [
    {
     "data": {
      "text/plain": [
       "2"
      ]
     },
     "execution_count": 10,
     "metadata": {},
     "output_type": "execute_result"
    }
   ],
   "source": [
    "def stringConstruction(s):\n",
    "    p =\"\"\n",
    "    cost = 0\n",
    "    for i in s:\n",
    "        if i not in p:\n",
    "            cost +=1\n",
    "        p += i\n",
    "    return cost\n",
    "\n",
    "\n",
    "#sample input\n",
    "s = 'abab'\n",
    "stringConstruction(s)\n",
    "            \n",
    "    "
   ]
  }
 ],
 "metadata": {
  "kernelspec": {
   "display_name": "Python 3 (ipykernel)",
   "language": "python",
   "name": "python3"
  },
  "language_info": {
   "codemirror_mode": {
    "name": "ipython",
    "version": 3
   },
   "file_extension": ".py",
   "mimetype": "text/x-python",
   "name": "python",
   "nbconvert_exporter": "python",
   "pygments_lexer": "ipython3",
   "version": "3.11.1"
  }
 },
 "nbformat": 4,
 "nbformat_minor": 5
}
