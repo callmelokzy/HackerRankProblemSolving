{
 "cells": [
  {
   "cell_type": "markdown",
   "id": "e1a21b77",
   "metadata": {},
   "source": [
    "## HACKERRANK IN A STRING\n",
    "------------------------------------------\n",
    "\n",
    "\n",
    "[+] Problem: https://www.hackerrank.com/challenges/hackerrank-in-a-string/problem?isFullScreen=false\n",
    "\n",
    "\n",
    "[+] Task:\n",
    "\n",
    "\n",
    "[+] Algorithm:\n",
    "\n",
    "       1. initialize variable p=0, and convert input string into lowercase(case insensitive)\n",
    "       2. if each alphabet present in string p is incremented with 1 , i,e p+=1\n",
    "       3. continue step 2 untill all alphabets are checked\n",
    "       4. compare the value of p with 26(total no of alphabets\n",
    "       5. return 'not pangram' if p < 26 else return 'pangram' \n",
    "      \n",
    "\n",
    "\n",
    "\n",
    "[+] Implementation:"
   ]
  },
  {
   "cell_type": "code",
   "execution_count": 40,
   "id": "c5440f1b",
   "metadata": {},
   "outputs": [
    {
     "data": {
      "text/plain": [
       "'pangram'"
      ]
     },
     "execution_count": 40,
     "metadata": {},
     "output_type": "execute_result"
    }
   ],
   "source": [
    "\n",
    "def pangrams(s):\n",
    "    \n",
    "    p = 0                                      \n",
    "    s=s.lower()                                  #converting to lowercase because task is case insensitive\n",
    "    a_z = 'abcdefghijklmnopqrstuvwxyz'   \n",
    "    \n",
    "    for i in range(len(a_z)):\n",
    "        if a_z[i] in s:\n",
    "            p+=1\n",
    "            \n",
    "    return 'not pangram' if p<26 else 'pangram'  \n",
    "\n",
    "\n",
    "\n",
    "s= 'We promptly judged antique ivory buckles for the next prize'\n",
    "pangrams(s)"
   ]
  }
 ],
 "metadata": {
  "kernelspec": {
   "display_name": "Python 3 (ipykernel)",
   "language": "python",
   "name": "python3"
  },
  "language_info": {
   "codemirror_mode": {
    "name": "ipython",
    "version": 3
   },
   "file_extension": ".py",
   "mimetype": "text/x-python",
   "name": "python",
   "nbconvert_exporter": "python",
   "pygments_lexer": "ipython3",
   "version": "3.11.1"
  }
 },
 "nbformat": 4,
 "nbformat_minor": 5
}
