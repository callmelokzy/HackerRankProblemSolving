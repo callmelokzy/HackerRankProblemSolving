{
 "cells": [
  {
   "cell_type": "markdown",
   "id": "1618ddc5",
   "metadata": {},
   "source": [
    "## MARS EXPLORATION\n",
    "[+] Problem: https://www.hackerrank.com/challenges/mars-exploration/problem?isFullScreen=false\n",
    "\n",
    "[+] Task: To find how many letters of the SOS message altered by radiation\n",
    "\n",
    "[+] Algorithm:\n",
    "\n",
    "       1.\n",
    "       2.\n",
    "       3.\n",
    "       4.\n",
    "       5.\n",
    "      \n",
    "\n",
    "\n",
    "\n",
    "[+] Implementation:"
   ]
  },
  {
   "cell_type": "code",
   "execution_count": 22,
   "id": "0572ac5f",
   "metadata": {},
   "outputs": [
    {
     "data": {
      "text/plain": [
       "1"
      ]
     },
     "execution_count": 22,
     "metadata": {},
     "output_type": "execute_result"
    }
   ],
   "source": [
    "import re\n",
    "\n",
    "\n",
    "def marsExploration(s):\n",
    "    error = 0\n",
    "    pattern = 'SOS'\n",
    "    lst = [s[i:i+3] for i in range(0,len(s),3)]\n",
    "    for msg in lst:\n",
    "        for j in range(len(msg)):\n",
    "            if msg[j] != pattern[j]:\n",
    "                error +=1\n",
    "    return error\n",
    "        \n",
    "    \n",
    "\n",
    "    \n",
    "#sample input\n",
    "s = 'SOTSOSSOS'\n",
    "marsExploration(s)\n",
    "\n",
    "    \n",
    "    "
   ]
  },
  {
   "cell_type": "code",
   "execution_count": 25,
   "id": "435ce480",
   "metadata": {},
   "outputs": [
    {
     "data": {
      "text/plain": [
       "10"
      ]
     },
     "execution_count": 25,
     "metadata": {},
     "output_type": "execute_result"
    }
   ],
   "source": [
    "#Another Quick Method\n",
    "\n",
    "\n",
    "\n",
    "\n",
    "def marsExploration(s):\n",
    "    error = 0\n",
    "    array = \"SOS\"*(len(s)//3)\n",
    "    return len([i for i in range(len(array)) if array[i] != s[i]])\n",
    "\n",
    "#sample input\n",
    "s= 'SOSSOSSSOOSSSSTTSSTSST'\n",
    "marsExploration(s)"
   ]
  },
  {
   "cell_type": "code",
   "execution_count": null,
   "id": "8611a277",
   "metadata": {},
   "outputs": [],
   "source": []
  }
 ],
 "metadata": {
  "kernelspec": {
   "display_name": "Python 3 (ipykernel)",
   "language": "python",
   "name": "python3"
  },
  "language_info": {
   "codemirror_mode": {
    "name": "ipython",
    "version": 3
   },
   "file_extension": ".py",
   "mimetype": "text/x-python",
   "name": "python",
   "nbconvert_exporter": "python",
   "pygments_lexer": "ipython3",
   "version": "3.11.1"
  }
 },
 "nbformat": 4,
 "nbformat_minor": 5
}
