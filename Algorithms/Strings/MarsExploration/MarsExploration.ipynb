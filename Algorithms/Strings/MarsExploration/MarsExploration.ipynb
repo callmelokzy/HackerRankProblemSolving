{
 "cells": [
  {
   "cell_type": "markdown",
   "id": "1618ddc5",
   "metadata": {},
   "source": [
    "# MARS EXPLORATION\n",
    "--------------------------------------\n",
    "[+] Problem: https://www.hackerrank.com/challenges/mars-exploration/problem?isFullScreen=false\n",
    "\n",
    "\n",
    "[+] Task: To find how many letters of the SOS message altered by radiation\n",
    "\n",
    "\n",
    "[+]Algorithm:\n",
    "\n",
    "      1. Create array of elemets with continuos string'SOS' as same length as the input string\n",
    "      2. Compare each element in new array with each element in the original string one by one\n",
    "        2.1 create a list using list comprehension to stores the index number where elements in i'th index  of both array and               string differs\n",
    "      3. return the length of the list above created\n",
    "\n",
    "\n",
    "\n",
    "[+] Implementation:"
   ]
  },
  {
   "cell_type": "code",
   "execution_count": 26,
   "id": "435ce480",
   "metadata": {},
   "outputs": [
    {
     "data": {
      "text/plain": [
       "10"
      ]
     },
     "execution_count": 26,
     "metadata": {},
     "output_type": "execute_result"
    }
   ],
   "source": [
    "\n",
    "def marsExploration(s):\n",
    "    array = \"SOS\"*(len(s)//3)\n",
    "    return len([i for i in range(len(array)) if array[i] != s[i]])\n",
    "\n",
    "\n",
    "\n",
    "#sample input\n",
    "s= 'SOSSOSSSOOSSSSTTSSTSST'\n",
    "marsExploration(s)"
   ]
  }
 ],
 "metadata": {
  "kernelspec": {
   "display_name": "Python 3 (ipykernel)",
   "language": "python",
   "name": "python3"
  },
  "language_info": {
   "codemirror_mode": {
    "name": "ipython",
    "version": 3
   },
   "file_extension": ".py",
   "mimetype": "text/x-python",
   "name": "python",
   "nbconvert_exporter": "python",
   "pygments_lexer": "ipython3",
   "version": "3.11.1"
  }
 },
 "nbformat": 4,
 "nbformat_minor": 5
}
