{
 "cells": [
  {
   "cell_type": "markdown",
   "id": "61e27f28",
   "metadata": {},
   "source": [
    "## Two Characters\n",
    "---------------------------\n",
    "\n",
    "[+] Problem: https://www.hackerrank.com/challenges/two-characters/problem?isFullScreen=true\n",
    "\n",
    "\n",
    "[+] Task: Determine the longest string possible that contains just two alternating letters.\n",
    "         \n",
    "\n",
    "[+] Implementation:"
   ]
  },
  {
   "cell_type": "code",
   "execution_count": 5,
   "id": "7bbbc819",
   "metadata": {},
   "outputs": [
    {
     "data": {
      "text/plain": [
       "5"
      ]
     },
     "execution_count": 5,
     "metadata": {},
     "output_type": "execute_result"
    }
   ],
   "source": [
    "from itertools import combinations\n",
    "def alternate(s):\n",
    "    ans = [0]\n",
    "    for x in list(combinations(set(s), 2)):\n",
    "        se = re.sub(\"[^{}]\".format(x[0]+x[1]),\"\",s)\n",
    "        if not re.findall(r\"(.)\\1+\", se):\n",
    "            ans.append(len(se))\n",
    "    return max(ans)\n",
    "\n",
    "    \n",
    "\n",
    "    \n",
    "#Sample Input\n",
    "s = 'beabeefeab'\n",
    "alternate(s)"
   ]
  },
  {
   "cell_type": "code",
   "execution_count": null,
   "id": "7dc27cb4",
   "metadata": {},
   "outputs": [],
   "source": []
  }
 ],
 "metadata": {
  "kernelspec": {
   "display_name": "Python 3 (ipykernel)",
   "language": "python",
   "name": "python3"
  },
  "language_info": {
   "codemirror_mode": {
    "name": "ipython",
    "version": 3
   },
   "file_extension": ".py",
   "mimetype": "text/x-python",
   "name": "python",
   "nbconvert_exporter": "python",
   "pygments_lexer": "ipython3",
   "version": "3.11.1"
  }
 },
 "nbformat": 4,
 "nbformat_minor": 5
}
