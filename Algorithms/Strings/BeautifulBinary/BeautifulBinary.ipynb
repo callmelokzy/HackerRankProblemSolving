{
 "cells": [
  {
   "cell_type": "markdown",
   "id": "c5bdbedc",
   "metadata": {},
   "source": [
    "## Beautiful Binary\n",
    "--------------------------\n",
    "\n",
    "[+] Problem: https://www.hackerrank.com/challenges/beautiful-binary-string/problem?isFullScreen=true\n",
    "\n",
    "\n",
    "[+] Task:  Count and print the minimum number of steps needed to make Alice see the string as beautiful.\n",
    "\n",
    "\n",
    "[+] Algorithm:\n",
    "        1.Return how many '010' in b\n",
    "\n",
    "\n",
    "[+] Implementation:"
   ]
  },
  {
   "cell_type": "code",
   "execution_count": 22,
   "id": "33cd26f1",
   "metadata": {},
   "outputs": [
    {
     "data": {
      "text/plain": [
       "3"
      ]
     },
     "execution_count": 22,
     "metadata": {},
     "output_type": "execute_result"
    }
   ],
   "source": [
    "\n",
    "def beautifulBinaryString(b):\n",
    "    return b.count('010')\n",
    "    \n",
    "    \n",
    "\n",
    "    \n",
    "#sampe input\n",
    "\n",
    "b = '0100101010'\n",
    "beautifulBinaryString(b)"
   ]
  },
  {
   "cell_type": "code",
   "execution_count": null,
   "id": "14b66e24",
   "metadata": {},
   "outputs": [],
   "source": []
  }
 ],
 "metadata": {
  "kernelspec": {
   "display_name": "Python 3 (ipykernel)",
   "language": "python",
   "name": "python3"
  },
  "language_info": {
   "codemirror_mode": {
    "name": "ipython",
    "version": 3
   },
   "file_extension": ".py",
   "mimetype": "text/x-python",
   "name": "python",
   "nbconvert_exporter": "python",
   "pygments_lexer": "ipython3",
   "version": "3.11.1"
  }
 },
 "nbformat": 4,
 "nbformat_minor": 5
}
