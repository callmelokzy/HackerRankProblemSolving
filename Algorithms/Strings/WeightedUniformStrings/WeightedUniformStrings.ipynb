{
 "cells": [
  {
   "cell_type": "markdown",
   "id": "b8d50890",
   "metadata": {},
   "source": [
    "## Weighted Uniform Strings\n",
    "\n",
    "[+] Problem: https://www.hackerrank.com/challenges/weighted-uniform-string/problem?isFullScreen=trueWeighted Uniform Strings\n",
    "\n",
    "\n",
    "[+] Task: find the minimum number of characters must add to make password strong?\n",
    "         \n",
    "\n",
    "[+] Implementation:"
   ]
  },
  {
   "cell_type": "code",
   "execution_count": 4,
   "id": "85b91cd4",
   "metadata": {},
   "outputs": [
    {
     "name": "stdout",
     "output_type": "stream",
     "text": [
      "Yes\n",
      "Yes\n",
      "Yes\n",
      "Yes\n",
      "No\n",
      "No\n"
     ]
    }
   ],
   "source": [
    "def weightedUniformStrings(s, queries):\n",
    "   \n",
    "    az = 'abcdefghijklmnopqrstuvwxyz'\n",
    "    w_str = dict({k: v for (k, v) in zip(az, range(1, 27))})\n",
    "\n",
    "    values = []\n",
    "    for x in (set(s)):\n",
    "        c = (list([x for x in s]).count(x))\n",
    "        for i in range(1,c+1):\n",
    "            values.append(w_str[x] * i)\n",
    "     \n",
    "    for q in queries:\n",
    "        if q in values:\n",
    "            print('Yes')\n",
    "        else:\n",
    "            print('No')\n",
    "\n",
    "\n",
    "    \n",
    "\n",
    "    \n",
    "#Sample Input\n",
    "s = 'abccddde'\n",
    "queries = [1,3, 12, 5, 9, 10]\n",
    "weightedUniformStrings(s,queries)"
   ]
  },
  {
   "cell_type": "code",
   "execution_count": null,
   "id": "ccead6fb",
   "metadata": {},
   "outputs": [],
   "source": []
  }
 ],
 "metadata": {
  "kernelspec": {
   "display_name": "Python 3 (ipykernel)",
   "language": "python",
   "name": "python3"
  },
  "language_info": {
   "codemirror_mode": {
    "name": "ipython",
    "version": 3
   },
   "file_extension": ".py",
   "mimetype": "text/x-python",
   "name": "python",
   "nbconvert_exporter": "python",
   "pygments_lexer": "ipython3",
   "version": "3.11.1"
  }
 },
 "nbformat": 4,
 "nbformat_minor": 5
}
