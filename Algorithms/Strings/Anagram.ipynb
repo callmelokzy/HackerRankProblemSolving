{
 "cells": [
  {
   "cell_type": "markdown",
   "id": "be02e2c2",
   "metadata": {},
   "source": [
    "## ANAGRAM\n",
    "-------------------\n",
    "[+] Problem: https://www.hackerrank.com/challenges/anagram/problem?isFullScreen=true\n",
    "\n",
    "\n",
    "[+] Task:  Determine the minimum number of characters to change to make the two substrings into anagrams of one another.\n",
    "\n",
    "\n",
    "[+] Algorithm:\n",
    "            \n",
    "         1. Initialize variable changes=0\n",
    "         2. Check if length of string is even or odd\n",
    "              2.1 if odd return -1\n",
    "              2.2 else split string into two halves s1,s2\n",
    "                    2.2.1 check for count of element x in s2 in s1 \n",
    "                    2.2.2 if count of element x  is s2 > s1 increment changes by 1\n",
    "         3.return changes\n",
    "\n",
    "\n",
    "[+] Implementation: "
   ]
  },
  {
   "cell_type": "code",
   "execution_count": 58,
   "id": "dc7c664c",
   "metadata": {},
   "outputs": [
    {
     "data": {
      "text/plain": [
       "5"
      ]
     },
     "execution_count": 58,
     "metadata": {},
     "output_type": "execute_result"
    }
   ],
   "source": [
    "def anagram(s):\n",
    "    changes = 0\n",
    "    if len(s) % 2 != 0:\n",
    "        return -1\n",
    "    else:\n",
    "        s1 = s[:len(s) // 2]\n",
    "        s2 = s[len(s) // 2:]\n",
    "\n",
    "        for x in set(s2):\n",
    "            if s2.count(x) > s1.count(x):\n",
    "                changes += abs(s1.count(x) - s2.count(x))\n",
    "        return changes\n",
    "\n",
    "    \n",
    "    \n",
    "    \n",
    "    \n",
    "#sample input\n",
    "s='fdhlvosfpafhalll'\n",
    "anagram(s)"
   ]
  },
  {
   "cell_type": "code",
   "execution_count": null,
   "id": "7c16890e",
   "metadata": {},
   "outputs": [],
   "source": []
  }
 ],
 "metadata": {
  "kernelspec": {
   "display_name": "Python 3 (ipykernel)",
   "language": "python",
   "name": "python3"
  },
  "language_info": {
   "codemirror_mode": {
    "name": "ipython",
    "version": 3
   },
   "file_extension": ".py",
   "mimetype": "text/x-python",
   "name": "python",
   "nbconvert_exporter": "python",
   "pygments_lexer": "ipython3",
   "version": "3.11.1"
  }
 },
 "nbformat": 4,
 "nbformat_minor": 5
}
