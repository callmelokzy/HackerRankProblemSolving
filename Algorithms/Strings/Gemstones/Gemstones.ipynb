{
 "cells": [
  {
   "cell_type": "markdown",
   "id": "6e3e0655",
   "metadata": {},
   "source": [
    "## Gemstones\n",
    "--------------------\n",
    "\n",
    "[+] Problem: https://www.hackerrank.com/challenges/gem-stones/problem?isFullScreen=true\n",
    "\n",
    "\n",
    "\n",
    "[+] Task: Return count of common alphabet, if any, in a given list\n",
    "\n",
    "\n",
    "\n",
    "[+] Algorithm:\n",
    "            \n",
    "         1. Take first element in array and convert it to set set(arr[0])\n",
    "         2. For each element in input array do interesction in between set(arr[0]) to each element in array\n",
    "             and save it to a new set named s\n",
    "         3. Continue till all elements in input array are intersected\n",
    "         4. return the length of remaining elements in the set s\n",
    "\n",
    "\n",
    "\n",
    "\n",
    "[+] Implementation:"
   ]
  },
  {
   "cell_type": "code",
   "execution_count": 1,
   "id": "9353a2bf",
   "metadata": {},
   "outputs": [
    {
     "data": {
      "text/plain": [
       "2"
      ]
     },
     "execution_count": 1,
     "metadata": {},
     "output_type": "execute_result"
    }
   ],
   "source": [
    "\n",
    "def gemstones(arr):\n",
    "    # Write your code here\n",
    "    s=set(arr[0])\n",
    "    for i in arr:\n",
    "        s=s&set(i)    #& == .intersection()\n",
    "    return len(s)\n",
    "            \n",
    "        \n",
    "        \n",
    "        \n",
    "        \n",
    "#sample input\n",
    "arr = ['abcdde', 'baccd', 'eeabg']\n",
    "gemstones(arr)\n",
    "        \n"
   ]
  }
 ],
 "metadata": {
  "kernelspec": {
   "display_name": "Python 3 (ipykernel)",
   "language": "python",
   "name": "python3"
  },
  "language_info": {
   "codemirror_mode": {
    "name": "ipython",
    "version": 3
   },
   "file_extension": ".py",
   "mimetype": "text/x-python",
   "name": "python",
   "nbconvert_exporter": "python",
   "pygments_lexer": "ipython3",
   "version": "3.11.1"
  }
 },
 "nbformat": 4,
 "nbformat_minor": 5
}
