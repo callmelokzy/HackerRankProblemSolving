{
 "cells": [
  {
   "cell_type": "markdown",
   "id": "10a69ac9",
   "metadata": {},
   "source": [
    "## HACKERRANK IN A STRING\n",
    "-------------------------------------------\n",
    "\n",
    "[+] Problem: https://www.hackerrank.com/challenges/hackerrank-in-a-string/problem?isFullScreen=true\n",
    "\n",
    "\n",
    "[+] Task: Check for string 'hackerank' in a string\n",
    "\n",
    "\n",
    "[+] Algorithm:\n",
    "           \n",
    "           1. Create regex pattern for searching 'hackerrank' in string s ==> (.*h.*a.*c.*k.*e.*r.*r.*a.*n.*k.*)\n",
    "           2. Using module re search the above pattern in string s\n",
    "           3. Return 'YES' if there is any match else return 'NO'\n",
    "           \n",
    "           \n",
    "[+] IMplementation:         "
   ]
  },
  {
   "cell_type": "code",
   "execution_count": 39,
   "id": "ef818f51",
   "metadata": {},
   "outputs": [
    {
     "data": {
      "text/plain": [
       "'NO'"
      ]
     },
     "execution_count": 39,
     "metadata": {},
     "output_type": "execute_result"
    }
   ],
   "source": [
    "import re\n",
    "\n",
    "def hackerrankInString(s):\n",
    "    \n",
    "    match = re.match(r'.*h.*a.*c.*k.*e.*r.*r.*a.*n.*k.*', s)\n",
    "    return 'YES' if match else 'NO'\n",
    "    \n",
    "    \n",
    "\n",
    "#sample input\n",
    "\n",
    "s = 'hereimstckerrank'\n",
    "hackerrankInString(s)"
   ]
  }
 ],
 "metadata": {
  "kernelspec": {
   "display_name": "Python 3 (ipykernel)",
   "language": "python",
   "name": "python3"
  },
  "language_info": {
   "codemirror_mode": {
    "name": "ipython",
    "version": 3
   },
   "file_extension": ".py",
   "mimetype": "text/x-python",
   "name": "python",
   "nbconvert_exporter": "python",
   "pygments_lexer": "ipython3",
   "version": "3.11.1"
  }
 },
 "nbformat": 4,
 "nbformat_minor": 5
}
