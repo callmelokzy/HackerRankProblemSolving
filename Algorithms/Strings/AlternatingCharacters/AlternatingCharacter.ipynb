{
 "cells": [
  {
   "cell_type": "markdown",
   "id": "55e5e4b9",
   "metadata": {},
   "source": [
    "## ALTERNATING CHARACTER\n",
    "-------------------------------------------\n",
    "\n",
    "[+] Problem: https://www.hackerrank.com/challenges/alternating-characters/problem?isFullScreen=true\n",
    "\n",
    "\n",
    "[+] Task:  find the minimum number of required deletions. to make string with no matching adjacent characters\n",
    "\n",
    "\n",
    "[+] Algorithm:\n",
    "\n",
    "           1. Create a variable count and initialise it to 0\n",
    "           2. Check for each element in s from range 1 to length of s\n",
    "                       2.1 if element is same as the previous element increment count by 1\n",
    "           3. Return count\n",
    "\n",
    "\n",
    "[+] Implementation:"
   ]
  },
  {
   "cell_type": "code",
   "execution_count": 15,
   "id": "6158a5d0",
   "metadata": {},
   "outputs": [
    {
     "data": {
      "text/plain": [
       "0"
      ]
     },
     "execution_count": 15,
     "metadata": {},
     "output_type": "execute_result"
    }
   ],
   "source": [
    "\n",
    "def alternatingCharacters(s):\n",
    "    count = 0\n",
    "    for i in range(1,len(s)):\n",
    "        if s[i] == s[i-1]:\n",
    "            count +=1\n",
    "    return count\n",
    "        \n",
    "    \n",
    "     \n",
    "    \n",
    "#sample input\n",
    "\n",
    "s = 'BABABA'\n",
    "alternatingCharacters(s)"
   ]
  },
  {
   "cell_type": "code",
   "execution_count": null,
   "id": "661cda88",
   "metadata": {},
   "outputs": [],
   "source": []
  },
  {
   "cell_type": "code",
   "execution_count": null,
   "id": "58be08af",
   "metadata": {},
   "outputs": [],
   "source": []
  }
 ],
 "metadata": {
  "kernelspec": {
   "display_name": "Python 3 (ipykernel)",
   "language": "python",
   "name": "python3"
  },
  "language_info": {
   "codemirror_mode": {
    "name": "ipython",
    "version": 3
   },
   "file_extension": ".py",
   "mimetype": "text/x-python",
   "name": "python",
   "nbconvert_exporter": "python",
   "pygments_lexer": "ipython3",
   "version": "3.11.1"
  }
 },
 "nbformat": 4,
 "nbformat_minor": 5
}
