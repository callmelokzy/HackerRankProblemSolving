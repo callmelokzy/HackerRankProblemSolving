{
 "cells": [
  {
   "cell_type": "markdown",
   "id": "9e01ae0a",
   "metadata": {},
   "source": [
    "## THE LOVE LETTER MYSTERY\n",
    "---------------------------------------------\n",
    "\n",
    "[+] Problem: https://www.hackerrank.com/challenges/the-love-letter-mystery/problem?isFullScreen=false\n",
    "\n",
    "\n",
    "\n",
    "[+] Task: Find the minimum number of operations required to convert a given string into a palindrome.\n",
    "\n",
    "\n",
    "\n",
    "[+] Algorithm:\n",
    "            \n",
    "           1. Initialise t=0 and r equals reversedstring of s\n",
    "           2. for each element in index x for both s and r \n",
    "                  2.1 find the  count of alphabets between the to elements\n",
    "           3. Return t\n",
    "            \n",
    "\n",
    "\n",
    "[+] Implementation:"
   ]
  },
  {
   "cell_type": "code",
   "execution_count": 2,
   "id": "5e7add52",
   "metadata": {},
   "outputs": [
    {
     "data": {
      "text/plain": [
       "4"
      ]
     },
     "execution_count": 2,
     "metadata": {},
     "output_type": "execute_result"
    }
   ],
   "source": [
    "def theLoveLetterMystery(s):\n",
    "    r = s[::-1]\n",
    "    t = 0\n",
    "    for i in range(len(s)//2):\n",
    "        t += abs(ord(s[i]) - ord(r[i]))\n",
    "    return t  \n",
    "\n",
    "    \n",
    "    \n",
    "#sample input\n",
    "\n",
    "s = 'abcd'\n",
    "theLoveLetterMystery(s)\n"
   ]
  }
 ],
 "metadata": {
  "kernelspec": {
   "display_name": "Python 3 (ipykernel)",
   "language": "python",
   "name": "python3"
  },
  "language_info": {
   "codemirror_mode": {
    "name": "ipython",
    "version": 3
   },
   "file_extension": ".py",
   "mimetype": "text/x-python",
   "name": "python",
   "nbconvert_exporter": "python",
   "pygments_lexer": "ipython3",
   "version": "3.11.1"
  }
 },
 "nbformat": 4,
 "nbformat_minor": 5
}
