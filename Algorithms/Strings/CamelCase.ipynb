{
 "cells": [
  {
   "cell_type": "markdown",
   "id": "c65829fd",
   "metadata": {},
   "source": [
    "# \n",
    "\n",
    "[+] Problem: https://www.hackerrank.com/challenges/camelcase/problem?isFullScreen=true\n",
    "\n",
    "\n",
    "[+] Task: \n",
    "\n",
    "\n",
    "[+] Algorithm:\n",
    "\n",
    "\n",
    "[+] Implementation:"
   ]
  },
  {
   "cell_type": "code",
   "execution_count": 2,
   "id": "0467f326",
   "metadata": {},
   "outputs": [
    {
     "data": {
      "text/plain": [
       "3"
      ]
     },
     "execution_count": 2,
     "metadata": {},
     "output_type": "execute_result"
    }
   ],
   "source": [
    "import re\n",
    "\n",
    "def camelcase(s):\n",
    "    if s:\n",
    "        word = 1 \n",
    "        a = re.findall(r'[A-Z](?:[a-z]+[A-Z]*(?=[A-Z]|$))', s)\n",
    "        word += len(a)\n",
    "        return word\n",
    "    else: \n",
    "        return 0\n",
    "    \n",
    "\n",
    "    \n",
    "#Sample Input\n",
    "s ='oneTwoThree'\n",
    "camelcase(s)"
   ]
  },
  {
   "cell_type": "code",
   "execution_count": null,
   "id": "0034ec02",
   "metadata": {},
   "outputs": [],
   "source": []
  }
 ],
 "metadata": {
  "kernelspec": {
   "display_name": "Python 3 (ipykernel)",
   "language": "python",
   "name": "python3"
  },
  "language_info": {
   "codemirror_mode": {
    "name": "ipython",
    "version": 3
   },
   "file_extension": ".py",
   "mimetype": "text/x-python",
   "name": "python",
   "nbconvert_exporter": "python",
   "pygments_lexer": "ipython3",
   "version": "3.11.1"
  }
 },
 "nbformat": 4,
 "nbformat_minor": 5
}
