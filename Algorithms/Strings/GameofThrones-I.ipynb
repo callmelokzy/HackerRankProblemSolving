{
 "cells": [
  {
   "cell_type": "markdown",
   "id": "251e581b",
   "metadata": {},
   "source": [
    "## Game of Thrones - I\n",
    "-------------------------------\n",
    "\n",
    "[+] Problem: https://www.hackerrank.com/challenges/game-of-thrones/problem?isFullScreen=false\n",
    "\n",
    "\n",
    "[+] Task: Given a string, determine if it can be rearranged into a palindrome. Return the string YES or NO.\n",
    "\n",
    "\n",
    "\n",
    "[+] Algorithm \n",
    "        \n",
    "        1. Initialize a variable odd = 0\n",
    "        2. Check the counts of each element(without duplicates) in the input string 's'\n",
    "            2.1 if the are more elements with odd counts (palindrome can't be made), for each odd counts increment 'odd' by 1\n",
    "        3. Return 'YES\" if value of odd is less than or equals to 1 else return 'NO'.\n",
    "\n",
    "\n",
    "\n",
    "[+] Implementation"
   ]
  },
  {
   "cell_type": "code",
   "execution_count": 14,
   "id": "1fa9129e",
   "metadata": {},
   "outputs": [
    {
     "data": {
      "text/plain": [
       "'YES'"
      ]
     },
     "execution_count": 14,
     "metadata": {},
     "output_type": "execute_result"
    }
   ],
   "source": [
    "def gameOfThrones(s):\n",
    "    \n",
    "    odd = 0\n",
    "    \n",
    "    for i in [s.count(a) for a in  set({x for x in s})]:\n",
    "        if i %2 !=0:\n",
    "            odd +=1\n",
    "            \n",
    "    return \"YES\" if odd <= 1 else 'NO'\n",
    "    \n",
    "    \n",
    "    \n",
    "    \n",
    "#sample input\n",
    "s = 'aaabbbb'\n",
    "gameOfThrones(s)"
   ]
  }
 ],
 "metadata": {
  "kernelspec": {
   "display_name": "Python 3 (ipykernel)",
   "language": "python",
   "name": "python3"
  },
  "language_info": {
   "codemirror_mode": {
    "name": "ipython",
    "version": 3
   },
   "file_extension": ".py",
   "mimetype": "text/x-python",
   "name": "python",
   "nbconvert_exporter": "python",
   "pygments_lexer": "ipython3",
   "version": "3.11.1"
  }
 },
 "nbformat": 4,
 "nbformat_minor": 5
}
