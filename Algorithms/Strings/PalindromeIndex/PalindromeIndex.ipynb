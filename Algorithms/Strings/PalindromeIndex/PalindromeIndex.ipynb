{
 "cells": [
  {
   "cell_type": "markdown",
   "id": "8d196655",
   "metadata": {},
   "source": [
    "## PALINDROME  INDEX\n",
    "---------------------------------\n",
    "\n",
    "[+] Problem: https://www.hackerrank.com/challenges/palindrome-index/problem?isFullScreen=true\n",
    "\n",
    "\n",
    "[+] Task: determine the index of a character that can be removed to make the string a palindrome\n",
    "\n",
    "\n",
    "\n",
    "[+] Implementation"
   ]
  },
  {
   "cell_type": "code",
   "execution_count": 15,
   "id": "77bb1a1c",
   "metadata": {},
   "outputs": [
    {
     "data": {
      "text/plain": [
       "3"
      ]
     },
     "execution_count": 15,
     "metadata": {},
     "output_type": "execute_result"
    }
   ],
   "source": [
    "def palindromeIndex(s):\n",
    "    s = list(s)\n",
    "    for i in range(len(s)//2):\n",
    "        if s[i] != s[-(i+1)]:\n",
    "            new_list = s[:i] + s[i+1:]\n",
    "            if(new_list == new_list[::-1]):\n",
    "                return i\n",
    "            else:\n",
    "                return len(s)-1-i\n",
    "    return -1\n",
    "    \n",
    "            \n",
    "\n",
    "\n",
    "    \n",
    "#sample input\n",
    "s= 'aaab'\n",
    "palindromeIndex(s)\n"
   ]
  }
 ],
 "metadata": {
  "kernelspec": {
   "display_name": "Python 3 (ipykernel)",
   "language": "python",
   "name": "python3"
  },
  "language_info": {
   "codemirror_mode": {
    "name": "ipython",
    "version": 3
   },
   "file_extension": ".py",
   "mimetype": "text/x-python",
   "name": "python",
   "nbconvert_exporter": "python",
   "pygments_lexer": "ipython3",
   "version": "3.11.1"
  }
 },
 "nbformat": 4,
 "nbformat_minor": 5
}
