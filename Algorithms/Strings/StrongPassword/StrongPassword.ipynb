{
 "cells": [
  {
   "cell_type": "markdown",
   "id": "bea3d907",
   "metadata": {},
   "source": [
    "## STRONG PASSWORD\n",
    "\n",
    "[+] Problem: https://www.hackerrank.com/challenges/strong-password/problem?isFullScreen=true\n",
    "\n",
    "\n",
    "[+] Task: find the minimum number of characters must add to make password strong?\n",
    "\n",
    "\n",
    "[+] Algorithm:\n",
    "        \n",
    "        1. Initialise minNum = 0\n",
    "        2. Check for digits,lowecase,uppercase,and special characters in password , if not in password increament minNum by 1 for each case\n",
    "        3. Check for it contains mininum length of atleast6 \n",
    "                if not minNum += (6- current length) - minNum\n",
    "         4. Return minNUm\n",
    "         \n",
    "         \n",
    "\n",
    "[+] Implementation:"
   ]
  },
  {
   "cell_type": "code",
   "execution_count": 3,
   "id": "289e8523",
   "metadata": {},
   "outputs": [
    {
     "data": {
      "text/plain": [
       "1"
      ]
     },
     "execution_count": 3,
     "metadata": {},
     "output_type": "execute_result"
    }
   ],
   "source": [
    "import re\n",
    "\n",
    "def minimumNumber(n, password):\n",
    "    # Return the minimum number of characters to make the password strong\n",
    "    digit = re.search('[0-9]', password)\n",
    "    lo = re.search('[a-z]', password)\n",
    "    up = re.search('[A-Z]', password)\n",
    "    special = re.search('[!@#$%^&*()\\-+]', password)\n",
    "    \n",
    "    minNum = 0\n",
    "    \n",
    "    if not digit:\n",
    "        minNum += 1\n",
    "    if not lo:\n",
    "        minNum += 1\n",
    "    if not up:\n",
    "        minNum += 1\n",
    "    if not special:\n",
    "        minNum += 1\n",
    "    if minNum < (6 - len(password)):\n",
    "        minNum += (6 - len(password)) - minNum\n",
    "    \n",
    "    return minNum\n",
    "\n",
    "    \n",
    "\n",
    "    \n",
    "#Sample Input\n",
    "n = 11\n",
    "password ='#HackerRank'\n",
    "minimumNumber(n,password)"
   ]
  },
  {
   "cell_type": "code",
   "execution_count": null,
   "id": "9a3454ff",
   "metadata": {},
   "outputs": [],
   "source": []
  }
 ],
 "metadata": {
  "kernelspec": {
   "display_name": "Python 3 (ipykernel)",
   "language": "python",
   "name": "python3"
  },
  "language_info": {
   "codemirror_mode": {
    "name": "ipython",
    "version": 3
   },
   "file_extension": ".py",
   "mimetype": "text/x-python",
   "name": "python",
   "nbconvert_exporter": "python",
   "pygments_lexer": "ipython3",
   "version": "3.11.1"
  }
 },
 "nbformat": 4,
 "nbformat_minor": 5
}
