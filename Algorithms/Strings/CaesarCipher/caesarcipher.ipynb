{
 "cells": [
  {
   "cell_type": "markdown",
   "id": "3c67a325",
   "metadata": {},
   "source": [
    "# CAESAR CIPHER\n",
    "-------------------------------\n",
    "[+]Problem: https://www.hackerrank.com/challenges/caesar-cipher-1/problem?isFullScreen=true\n",
    "\n",
    "\n",
    "[+]Task: Convert plaintext into Caesar Cipher text(encryption method)\n",
    "\n",
    "\n",
    "[+]Algorithm:\n",
    "\n",
    "     1. Create a dictionary and plot each alphabets to its corresponding alphabet after rotation\n",
    "     2. Convert input string into a list for easy replacements\n",
    "     3. Check each characters in the list and replace the charcter to its respective alphabet(after k rotation)by cross checking the dictionary\n",
    "         3.1 special characters are excluded\n",
    "     4. Continue step 3 till all characters are checked\n",
    "     5. convert the result list into string and return it\n",
    "        \n",
    "        \n",
    "\n",
    "\n",
    "[+]Implementation:"
   ]
  },
  {
   "cell_type": "code",
   "execution_count": 82,
   "id": "eb5b65f1",
   "metadata": {},
   "outputs": [
    {
     "data": {
      "text/plain": [
       "'okffng-Qwvb'"
      ]
     },
     "execution_count": 82,
     "metadata": {},
     "output_type": "execute_result"
    }
   ],
   "source": [
    "\n",
    "def caesarCipher(s, k):\n",
    "    \n",
    "    dictaz = {}\n",
    "    a_z = 'abcdefghijklmnopqrstuvwxyz'    \n",
    "\n",
    "    for i in range(26):                              #plotting each alphabet with its corresponding alphabet after k rotation\n",
    "        dictaz[a_z[i]] = a_z[(i + k) % 26]        \n",
    "\n",
    "    text = list([x for x in s])                      #convert string into list\n",
    "\n",
    "    for t in range(len(text)):\n",
    "        if text[t].isalpha():                            #checking if current character is an alphabet\n",
    "            if text[t].islower():                             #checking if the alphabet is lowercase\n",
    "                text[t] = (dictaz[text[t]])                       #repalcing alphabet \n",
    "            elif text[t].isupper():                      #checking if the alphabet is uppercase\n",
    "                text[t] = dictaz[text[t].lower()].upper()         #repalcing alphabet \n",
    "    \n",
    "    return \"\".join(text)                                 #converting the list into string and returning it\n",
    "\n",
    "\n",
    "\n",
    "# sample input\n",
    "s = 'middle-Outz'\n",
    "k = 2\n",
    "\n",
    "caesarCipher(s, k)\n"
   ]
  }
 ],
 "metadata": {
  "kernelspec": {
   "display_name": "Python 3 (ipykernel)",
   "language": "python",
   "name": "python3"
  },
  "language_info": {
   "codemirror_mode": {
    "name": "ipython",
    "version": 3
   },
   "file_extension": ".py",
   "mimetype": "text/x-python",
   "name": "python",
   "nbconvert_exporter": "python",
   "pygments_lexer": "ipython3",
   "version": "3.11.1"
  }
 },
 "nbformat": 4,
 "nbformat_minor": 5
}
