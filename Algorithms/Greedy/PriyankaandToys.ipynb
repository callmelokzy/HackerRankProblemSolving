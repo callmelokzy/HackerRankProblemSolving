{
 "cells": [
  {
   "cell_type": "markdown",
   "id": "37727d97",
   "metadata": {},
   "source": [
    "## Priyanka and Toys\n",
    "\n",
    "\n",
    "___________________________________________________________________\n",
    "\n",
    "Problem: https://www.hackerrank.com/challenges/priyanka-and-toys/problem?isFullScreen=false\n",
    "\n",
    "\n",
    "Task: fWhat is the smallest number of containers that can be contracted to ship the items based on the given list of weights?\n",
    "\n",
    "\n",
    "Algorithm:\n",
    "\n",
    "        1. Sort the list of weights in non-decreasing order.\n",
    "        2. Initialize the container count to 1 and set the minimum weight as the threshold.\n",
    "        3. Iterate through the list of weights starting from the second item (index 1)\n",
    "        4. For each item, check if its weight is greater than the threshold + 4\n",
    "        5. If it is, increase the container count and update the threshold to the current item\n",
    "        6.Return the container count\n",
    "\n",
    "\n",
    "\n",
    "Implementation: 👇"
   ]
  },
  {
   "cell_type": "code",
   "execution_count": 77,
   "id": "cda2ab23",
   "metadata": {},
   "outputs": [],
   "source": [
    "#!/bin/python3\n",
    "\n",
    "import math\n",
    "import os\n",
    "import random\n",
    "import re\n",
    "import sys\n",
    "\n",
    "#\n",
    "# Complete the 'toys' function below.\n",
    "#\n",
    "# The function is expected to return an INTEGER.\n",
    "# The function accepts INTEGER_ARRAY w as parameter.\n",
    "#\n",
    "\n",
    "\n",
    "def toys(weights):\n",
    "    # Sort the list of weights in non-decreasing order\n",
    "    weights.sort()\n",
    "    \n",
    "    # Initialize the container count\n",
    "    container_count = 1\n",
    "    \n",
    "    # Set the minimum weight as the threshold\n",
    "    threshold = weights[0]\n",
    "    \n",
    "    for i in range(1, len(weights)):\n",
    "        # Check if the weight of current item is greater than threshold + 4\n",
    "        if weights[i] > threshold + 4:\n",
    "            # Increase the container count\n",
    "            container_count += 1\n",
    "            # Update the threshold to the current item\n",
    "            threshold = weights[i]\n",
    "    \n",
    "    # Return the container count\n",
    "    return container_count\n",
    "\n",
    "    \n",
    "\n",
    "    \n",
    "    \n",
    "    \n",
    "    \n"
   ]
  },
  {
   "cell_type": "code",
   "execution_count": 78,
   "id": "9aea70a9",
   "metadata": {},
   "outputs": [
    {
     "data": {
      "text/plain": [
       "4"
      ]
     },
     "execution_count": 78,
     "metadata": {},
     "output_type": "execute_result"
    }
   ],
   "source": [
    "w = [1, 2, 3, 21, 7, 12, 14, 21]\n",
    "toys(w)"
   ]
  }
 ],
 "metadata": {
  "kernelspec": {
   "display_name": "Python 3 (ipykernel)",
   "language": "python",
   "name": "python3"
  },
  "language_info": {
   "codemirror_mode": {
    "name": "ipython",
    "version": 3
   },
   "file_extension": ".py",
   "mimetype": "text/x-python",
   "name": "python",
   "nbconvert_exporter": "python",
   "pygments_lexer": "ipython3",
   "version": "3.10.9"
  }
 },
 "nbformat": 4,
 "nbformat_minor": 5
}
