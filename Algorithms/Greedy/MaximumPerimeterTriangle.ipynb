{
 "cells": [
  {
   "cell_type": "markdown",
   "id": "37727d97",
   "metadata": {},
   "source": [
    "## Maximum Perimeter Triangle\n",
    "\n",
    "___________________________________________________________________\n",
    "\n",
    "Problem: https://www.hackerrank.com/challenges/maximum-perimeter-triangle/problem?isFullScreen=true\n",
    "\n",
    "\n",
    "Task: Given an array of stick lengths, use  of them to construct a non-degenerate triangle with the maximum possible perimeter. Return an array of the lengths of its sides as  integers in non-decreasing order.\n",
    "\n",
    "\n",
    "Algorithm: \n",
    "\n",
    "        1. Sort the list of sticks in non-decreasing order using the built-in sort() function.\n",
    "        2. Iterate over the list of sticks in reverse order, starting from the last element.\n",
    "        3. For each element, check if it is possible to construct a non-degenerate triangle using the element as the longest side and the two previous elements as the other two sides by checking if the sum of the two previous elements is greater than the current element.\n",
    "        4. If a non-degenerate triangle can be formed, return the sides of the triangle in non-decreasing order.\n",
    "        5. If no non-degenerate triangle can be formed, return -1.\n",
    "\n",
    "        \n",
    "        \n",
    "       \n",
    "\n",
    "Implementation: 👇"
   ]
  },
  {
   "cell_type": "code",
   "execution_count": 77,
   "id": "cda2ab23",
   "metadata": {},
   "outputs": [],
   "source": [
    "#!/bin/python3\n",
    "\n",
    "import math\n",
    "import os\n",
    "import random\n",
    "import re\n",
    "import sys\n",
    "\n",
    "#\n",
    "# Complete the 'maximumPerimeterTriangle' function below.\n",
    "#\n",
    "# The function is expected to return an INTEGER_ARRAY.\n",
    "# The function accepts INTEGER_ARRAY sticks as parameter.\n",
    "#\n",
    "\n",
    "\n",
    "def maximumPerimeterTriangle(stick):\n",
    "    # Sort the sticks in non-decreasing order\n",
    "    stick.sort()\n",
    "    \n",
    "    # Iterate over the sticks in reverse order\n",
    "    for i in range(len(stick)-1,1,-1):\n",
    "        # Check if it is possible to form a non-degenerate triangle\n",
    "        if stick[i-2]+stick[i-1]>stick[i]:\n",
    "            # Return the sides of the triangle in non-decreasing order\n",
    "            return [stick[i-2],stick[i-1],stick[i]]\n",
    "        \n",
    "    # If no non-degenerate triangle can be formed, return -1\n",
    "    return [-1]\n",
    "\n",
    "\n",
    "      \n",
    "    "
   ]
  },
  {
   "cell_type": "code",
   "execution_count": 78,
   "id": "aeb0d2c4",
   "metadata": {},
   "outputs": [
    {
     "data": {
      "text/plain": [
       "[3, 4, 5]"
      ]
     },
     "execution_count": 78,
     "metadata": {},
     "output_type": "execute_result"
    }
   ],
   "source": [
    "sticks = [1,2,3,4,5,10]\n",
    "maximumPerimeterTriangle(sticks)"
   ]
  },
  {
   "cell_type": "code",
   "execution_count": 79,
   "id": "084fad99",
   "metadata": {},
   "outputs": [
    {
     "data": {
      "text/plain": [
       "[1, 3, 3]"
      ]
     },
     "execution_count": 79,
     "metadata": {},
     "output_type": "execute_result"
    }
   ],
   "source": [
    "sticks = [1,1,1,3,3]\n",
    "maximumPerimeterTriangle(sticks)"
   ]
  },
  {
   "cell_type": "code",
   "execution_count": 80,
   "id": "f3639d86",
   "metadata": {},
   "outputs": [
    {
     "data": {
      "text/plain": [
       "[-1]"
      ]
     },
     "execution_count": 80,
     "metadata": {},
     "output_type": "execute_result"
    }
   ],
   "source": [
    "sticks = [1,2,3]\n",
    "maximumPerimeterTriangle(sticks)"
   ]
  },
  {
   "cell_type": "code",
   "execution_count": 81,
   "id": "77b4cd64",
   "metadata": {},
   "outputs": [
    {
     "data": {
      "text/plain": [
       "[1, 1, 1]"
      ]
     },
     "execution_count": 81,
     "metadata": {},
     "output_type": "execute_result"
    }
   ],
   "source": [
    "sticks = [1,1,1,2,3,5]\n",
    "maximumPerimeterTriangle(sticks)"
   ]
  },
  {
   "cell_type": "code",
   "execution_count": 82,
   "id": "1affc91e",
   "metadata": {},
   "outputs": [
    {
     "data": {
      "text/plain": [
       "[-1]"
      ]
     },
     "execution_count": 82,
     "metadata": {},
     "output_type": "execute_result"
    }
   ],
   "source": [
    "sticks = [50, 2430, 134 ,6373 ,215 ,1502 ,926 ,10312, 351, 74, 572, 3938]\n",
    "maximumPerimeterTriangle(sticks)"
   ]
  },
  {
   "cell_type": "code",
   "execution_count": 83,
   "id": "d4a2d9fb",
   "metadata": {},
   "outputs": [
    {
     "data": {
      "text/plain": [
       "[-1]"
      ]
     },
     "execution_count": 83,
     "metadata": {},
     "output_type": "execute_result"
    }
   ],
   "source": [
    "sticks = [1,28657,55,1346269,121393,4181,17711,2584,233,3,701408733,63245986,21,75025,13,3524578,34,10946,5,196418,46368,8,102334155,987,9227465,1597,610,317811,267914296,1,144,2178309,165580141,514229,832040,377,6765,2,89,24157817,433494437,5702887,39088169,14930352]\n",
    "maximumPerimeterTriangle(sticks)"
   ]
  }
 ],
 "metadata": {
  "kernelspec": {
   "display_name": "Python 3 (ipykernel)",
   "language": "python",
   "name": "python3"
  },
  "language_info": {
   "codemirror_mode": {
    "name": "ipython",
    "version": 3
   },
   "file_extension": ".py",
   "mimetype": "text/x-python",
   "name": "python",
   "nbconvert_exporter": "python",
   "pygments_lexer": "ipython3",
   "version": "3.10.9"
  }
 },
 "nbformat": 4,
 "nbformat_minor": 5
}
