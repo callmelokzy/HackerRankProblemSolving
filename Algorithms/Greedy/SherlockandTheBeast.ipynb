{
 "cells": [
  {
   "cell_type": "markdown",
   "id": "37727d97",
   "metadata": {},
   "source": [
    "## Sherlock and The Beast\n",
    "\n",
    "___________________________________________________________________\n",
    "\n",
    "Problem: https://www.hackerrank.com/challenges/sherlock-and-the-beast/problem?isFullScreen=true\n",
    "\n",
    "\n",
    "Task: find the largest Decent Number having that number of digits.\n",
    "\n",
    "\n",
    "\n",
    "Implementation: 👇"
   ]
  },
  {
   "cell_type": "code",
   "execution_count": 121,
   "id": "cda2ab23",
   "metadata": {},
   "outputs": [],
   "source": [
    "#!/bin/python3\n",
    "\n",
    "import math\n",
    "import os\n",
    "import random\n",
    "import re\n",
    "import sys\n",
    "\n",
    "#\n",
    "# Complete the 'decentNumber' function below.\n",
    "#\n",
    "# The function accepts INTEGER n as parameter.\n",
    "#\n",
    "\n",
    "def decentNumber(n):\n",
    "    \n",
    "    # Check if n is a multiple of 3\n",
    "    if n%3 ==0:\n",
    "        # If yes, print '5' n times\n",
    "        print('5'*n)\n",
    "    # Check if n is 1 more than a multiple of 3 and n is greater than or equal to 10\n",
    "    elif n%3 == 1 and n>=10:\n",
    "        # If yes, print '5' (n - 10) times followed by '3' 10 times\n",
    "        print( '5'* (n - 10) + '3' * (10))\n",
    "    # Check if n is 2 more than a multiple of 3 and n is greater than or equal to 5\n",
    "    elif n % 3 == 2 and n >= 5: \n",
    "        # If yes, print '5' (n - 5) times followed by '3' 5 times\n",
    "        print('5' *(n - 5) + '3' * (5))\n",
    "    else:\n",
    "        # If no valid decent number can be formed, print -1\n",
    "        print(-1)    \n",
    "    return\n",
    "\n",
    "\n",
    "    \n",
    "        \n"
   ]
  },
  {
   "cell_type": "code",
   "execution_count": 124,
   "id": "aeb0d2c4",
   "metadata": {},
   "outputs": [
    {
     "name": "stdout",
     "output_type": "stream",
     "text": [
      "55555555555533333\n"
     ]
    }
   ],
   "source": [
    "n = 17\n",
    "decentNumber(n)"
   ]
  },
  {
   "cell_type": "code",
   "execution_count": 125,
   "id": "3384a7fd",
   "metadata": {},
   "outputs": [
    {
     "name": "stdout",
     "output_type": "stream",
     "text": [
      "-1\n"
     ]
    }
   ],
   "source": [
    "n = 7\n",
    "decentNumber(n)"
   ]
  }
 ],
 "metadata": {
  "kernelspec": {
   "display_name": "Python 3 (ipykernel)",
   "language": "python",
   "name": "python3"
  },
  "language_info": {
   "codemirror_mode": {
    "name": "ipython",
    "version": 3
   },
   "file_extension": ".py",
   "mimetype": "text/x-python",
   "name": "python",
   "nbconvert_exporter": "python",
   "pygments_lexer": "ipython3",
   "version": "3.10.9"
  }
 },
 "nbformat": 4,
 "nbformat_minor": 5
}
