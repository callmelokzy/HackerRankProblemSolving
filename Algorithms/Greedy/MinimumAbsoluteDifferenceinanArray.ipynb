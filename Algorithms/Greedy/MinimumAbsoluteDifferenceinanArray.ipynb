{
 "cells": [
  {
   "cell_type": "markdown",
   "id": "7474f7c3",
   "metadata": {},
   "source": [
    "## Minimum Absolute Difference in an Array\n",
    "___________________________________________________________________\n",
    "\n",
    "Problem: https://www.hackerrank.com/challenges/minimum-absolute-difference-in-an-array/problem?isFullScreen=true\n",
    "\n",
    "\n",
    "Task: Given an array of integers, find the minimum absolute difference between any two elements in the array.\n",
    "\n",
    "\n",
    "Implementation:👇"
   ]
  },
  {
   "cell_type": "code",
   "execution_count": 30,
   "id": "20a1e16c",
   "metadata": {},
   "outputs": [
    {
     "data": {
      "text/plain": [
       "3"
      ]
     },
     "execution_count": 30,
     "metadata": {},
     "output_type": "execute_result"
    }
   ],
   "source": [
    "#!/bin/python3\n",
    "\n",
    "import math\n",
    "import os\n",
    "import random\n",
    "import re\n",
    "import sys\n",
    "\n",
    "#\n",
    "# Complete the 'minimumAbsoluteDifference' function below.\n",
    "#\n",
    "# The function is expected to return an INTEGER.\n",
    "# The function accepts INTEGER_ARRAY arr as parameter.\n",
    "#\n",
    "\n",
    "def minimumAbsoluteDifference(arr):\n",
    "    \n",
    "    # sorting array\n",
    "    arr.sort()\n",
    "    abs_diff = [] # --> empty list to store absolute difference\n",
    "    for i in range(len(arr)-1):\n",
    "        abs_diff.append(abs(arr[i]-arr[i+1]))  #? there will be no any least difference that are lower than the absolute difference between two 2 adjacent sorted elements than in a combiniation on any 2 random elements\n",
    "    return min(abs_diff) \n",
    "\n",
    "        \n",
    "arr = [3,-7,0]\n",
    "minimumAbsoluteDifference(arr)"
   ]
  }
 ],
 "metadata": {
  "kernelspec": {
   "display_name": "Python 3 (ipykernel)",
   "language": "python",
   "name": "python3"
  },
  "language_info": {
   "codemirror_mode": {
    "name": "ipython",
    "version": 3
   },
   "file_extension": ".py",
   "mimetype": "text/x-python",
   "name": "python",
   "nbconvert_exporter": "python",
   "pygments_lexer": "ipython3",
   "version": "3.10.9"
  }
 },
 "nbformat": 4,
 "nbformat_minor": 5
}
