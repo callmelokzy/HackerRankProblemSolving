{
 "cells": [
  {
   "cell_type": "markdown",
   "id": "37727d97",
   "metadata": {},
   "source": [
    "## Mark and Toys\n",
    "\n",
    "\n",
    "___________________________________________________________________\n",
    "\n",
    "Problem: https://www.hackerrank.com/challenges/mark-and-toys/problem?isFullScreen=true\n",
    "\n",
    "\n",
    "Task:  Given a list of toy prices and an amount to spend, determine the maximum number of gifts he can buy.\n",
    "\n",
    "\n",
    "\n",
    "Algorithm:\n",
    "\n",
    "        1. Sort the prices in ascending order\n",
    "        2. Initialize a variable to keep track of the total cost of the toys\n",
    "        3. Initialize a variable to keep track of the number of toys\n",
    "        4. Iterate through the prices list\n",
    "        5. Check if the current price plus the total cost is less than or equal to k\n",
    "        6. If yes, add the current price to the total cost\n",
    "        7. Increment the number of toys\n",
    "        8. If not, break out of the loop\n",
    "        9. return the toy counts\n",
    "\n",
    "Implementation: 👇"
   ]
  },
  {
   "cell_type": "code",
   "execution_count": 22,
   "id": "cda2ab23",
   "metadata": {},
   "outputs": [],
   "source": [
    "#!/bin/python3\n",
    "\n",
    "import math\n",
    "import os\n",
    "#!/bin/python3\n",
    "\n",
    "import math\n",
    "import os\n",
    "import random\n",
    "import re\n",
    "import sys\n",
    "\n",
    "#\n",
    "# Complete the 'maximumToys' function below.\n",
    "#\n",
    "# The function is expected to return an INTEGER.\n",
    "# The function accepts following parameters:\n",
    "#  1. INTEGER_ARRAY prices\n",
    "#  2. INTEGER k\n",
    "#\n",
    "\n",
    "def maximumToys(prices, k):\n",
    "    \n",
    "    prices.sort()\n",
    "    \n",
    "    cost,toys  = 0,0\n",
    "\n",
    "    \n",
    "    for price in prices:\n",
    "        if cost + price <=k:\n",
    "            cost += price\n",
    "            toys += 1\n",
    "        else:\n",
    "            break\n",
    "            \n",
    "    return toys\n",
    "        \n",
    "    \n",
    "    "
   ]
  },
  {
   "cell_type": "code",
   "execution_count": 23,
   "id": "5080a93d",
   "metadata": {},
   "outputs": [
    {
     "data": {
      "text/plain": [
       "4"
      ]
     },
     "execution_count": 23,
     "metadata": {},
     "output_type": "execute_result"
    }
   ],
   "source": [
    "prices = [1, 12, 5, 111, 200, 1000, 10]\n",
    "k = 50\n",
    "maximumToys(prices,k)"
   ]
  },
  {
   "cell_type": "code",
   "execution_count": null,
   "id": "037f393c",
   "metadata": {},
   "outputs": [],
   "source": []
  }
 ],
 "metadata": {
  "kernelspec": {
   "display_name": "Python 3 (ipykernel)",
   "language": "python",
   "name": "python3"
  },
  "language_info": {
   "codemirror_mode": {
    "name": "ipython",
    "version": 3
   },
   "file_extension": ".py",
   "mimetype": "text/x-python",
   "name": "python",
   "nbconvert_exporter": "python",
   "pygments_lexer": "ipython3",
   "version": "3.10.9"
  }
 },
 "nbformat": 4,
 "nbformat_minor": 5
}
