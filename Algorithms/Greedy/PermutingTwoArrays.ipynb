{
 "cells": [
  {
   "cell_type": "markdown",
   "id": "37727d97",
   "metadata": {},
   "source": [
    "## Permuting Two Arrays\n",
    "\n",
    "___________________________________________________________________\n",
    "\n",
    "Problem: https://www.hackerrank.com/challenges/two-arrays/problem?isFullScreen=true\n",
    "\n",
    "\n",
    "Task:   For each query, return YES if some permutation ,  satisfying the relation exists.\n",
    "\n",
    "\n",
    "\n",
    "Algorithm:\n",
    "\n",
    "        1. Sort array A in non-descending order and array B in descending order.\n",
    "        2. Initialize two pointers, i and j, to point to the first elements of A and B respectively.\n",
    "        3. While i is less than the length of A and j is less than the length of B:\n",
    "            a. Check if the sum of A[i] and B[j] is greater than or equal to k.\n",
    "            i. If it is, increment both pointers i and j.\n",
    "            ii. If it is not, return 'NO'.\n",
    "            4. Return 'YES'\n",
    "        \n",
    "TimeComplexity: O(n)   Space Complexity: O(1)\n",
    "\n",
    "\n",
    "Implementation: 👇"
   ]
  },
  {
   "cell_type": "code",
   "execution_count": 46,
   "id": "cda2ab23",
   "metadata": {},
   "outputs": [],
   "source": [
    "#!/bin/python3\n",
    "\n",
    "import math\n",
    "import os\n",
    "import random\n",
    "import re\n",
    "import sys\n",
    "\n",
    "\n",
    "\n",
    "def twoArrays(k, A, B):\n",
    "    A.sort()\n",
    "    B.sort(reverse=True)\n",
    "    i, j = 0, 0\n",
    "    while i < len(A) and j < len(B):\n",
    "        if A[i] + B[j] >= k:\n",
    "            i += 1\n",
    "            j += 1\n",
    "        else:\n",
    "            return 'NO'\n",
    "    return 'YES'    \n",
    "    \n",
    "    \n",
    "    "
   ]
  },
  {
   "cell_type": "code",
   "execution_count": 47,
   "id": "fa4aad40",
   "metadata": {},
   "outputs": [
    {
     "data": {
      "text/plain": [
       "'YES'"
      ]
     },
     "execution_count": 47,
     "metadata": {},
     "output_type": "execute_result"
    }
   ],
   "source": [
    "k= 10\n",
    "A = [2, 1, 3]\n",
    "B = [7, 8, 9]\n",
    "twoArrays(k, A, B)"
   ]
  },
  {
   "cell_type": "code",
   "execution_count": 48,
   "id": "3bb11932",
   "metadata": {},
   "outputs": [
    {
     "data": {
      "text/plain": [
       "'NO'"
      ]
     },
     "execution_count": 48,
     "metadata": {},
     "output_type": "execute_result"
    }
   ],
   "source": [
    "k = 5\n",
    "A = [1, 2, 2, 1]\n",
    "B = [3, 3, 3, 4]\n",
    "twoArrays(k, A, B)"
   ]
  }
 ],
 "metadata": {
  "kernelspec": {
   "display_name": "Python 3 (ipykernel)",
   "language": "python",
   "name": "python3"
  },
  "language_info": {
   "codemirror_mode": {
    "name": "ipython",
    "version": 3
   },
   "file_extension": ".py",
   "mimetype": "text/x-python",
   "name": "python",
   "nbconvert_exporter": "python",
   "pygments_lexer": "ipython3",
   "version": "3.10.9"
  }
 },
 "nbformat": 4,
 "nbformat_minor": 5
}
