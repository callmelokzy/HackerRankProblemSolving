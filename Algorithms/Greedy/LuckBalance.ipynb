{
 "cells": [
  {
   "cell_type": "markdown",
   "id": "37727d97",
   "metadata": {},
   "source": [
    "## Luck Balance\n",
    "\n",
    "___________________________________________________________________\n",
    "\n",
    "Problem: https://www.hackerrank.com/challenges/luck-balance/problem?isFullScreen=true\n",
    "\n",
    "\n",
    "Task: what is the maximum amount of luck she can have after competing in all the preliminary contests? \n",
    "\n",
    "\n",
    "Algorithm: \n",
    "\n",
    "        1. Begin the function by defining the parameters k and contests.\n",
    "        2. Sort the contests list based on the importance and luck balance using the sorted() function and a lambda function as the key argument.\n",
    "        3. Initialize a variable luck to store the total luck balance with a value of 0.\n",
    "        4. Iterate over the sorted contests using the enumerate() method, which gives the index and the current contest as a tuple (i, (u,v)).\n",
    "        5. For each contest, check if the index is greater than or equal to k and if the importance of the contest is 1 (important).\n",
    "        6. If the above condition is true, subtract the luck balance of the contest from luck.\n",
    "        7. Else, add the luck balance of the contest to luck.\n",
    "        8. Return the total luck balance.\n",
    "        \n",
    "        \n",
    "\n",
    "\n",
    "\n",
    "Implementation: 👇"
   ]
  },
  {
   "cell_type": "code",
   "execution_count": 29,
   "id": "cda2ab23",
   "metadata": {},
   "outputs": [],
   "source": [
    "#!/bin/python3\n",
    "\n",
    "import math\n",
    "import os\n",
    "import random\n",
    "import re\n",
    "import sys\n",
    "\n",
    "#\n",
    "# Complete the 'luckBalance' function below.\n",
    "#\n",
    "# The function is expected to return an INTEGER.\n",
    "# The function accepts following parameters:\n",
    "#  1. INTEGER k\n",
    "#  2. 2D_INTEGER_ARRAY contests\n",
    "\n",
    "\n",
    "def luckBalance(k, contests):\n",
    "    \n",
    "    # Sort the contests based on the importance and luck balance\n",
    "    contests = sorted(contests, key=lambda x: (-x[1], -x[0]))\n",
    "\n",
    "    # Initialize a variable to store the total luck balance\n",
    "    luck = 0\n",
    "    \n",
    "    # Iterate over the sorted contests\n",
    "    for i, (u,v) in enumerate(contests):\n",
    "        \n",
    "        # If the contest is important and its index is greater than or equal to k, subtract the luck balance from the total luck\n",
    "        # Else, add the luck balance to the total luck\n",
    "        luck += u * (-1 if ((i>=k and v ))else 1)\n",
    "        \n",
    "    # Return the total luck balance\n",
    "    return luck\n",
    "\n",
    "    \n",
    "        \n"
   ]
  },
  {
   "cell_type": "code",
   "execution_count": 30,
   "id": "aeb0d2c4",
   "metadata": {},
   "outputs": [
    {
     "data": {
      "text/plain": [
       "29"
      ]
     },
     "execution_count": 30,
     "metadata": {},
     "output_type": "execute_result"
    }
   ],
   "source": [
    "k=3\n",
    "contests = [[5, 1], [2, 1], [1, 1], [8, 1], [10, 0], [5, 0]]\n",
    "luckBalance(k,contests)"
   ]
  }
 ],
 "metadata": {
  "kernelspec": {
   "display_name": "Python 3 (ipykernel)",
   "language": "python",
   "name": "python3"
  },
  "language_info": {
   "codemirror_mode": {
    "name": "ipython",
    "version": 3
   },
   "file_extension": ".py",
   "mimetype": "text/x-python",
   "name": "python",
   "nbconvert_exporter": "python",
   "pygments_lexer": "ipython3",
   "version": "3.10.9"
  }
 },
 "nbformat": 4,
 "nbformat_minor": 5
}
