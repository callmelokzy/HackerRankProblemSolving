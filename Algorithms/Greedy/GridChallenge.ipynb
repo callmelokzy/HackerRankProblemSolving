{
 "cells": [
  {
   "cell_type": "markdown",
   "id": "f235608b",
   "metadata": {},
   "source": [
    "## Grid Challenge\n",
    "\n",
    "___________________________________________________________________\n",
    "\n",
    "Problem: https://www.hackerrank.com/challenges/grid-challenge?isFullScreen=true\n",
    "\n",
    "\n",
    "Task: Given a square grid of characters in the range ascii[a-z], rearrange elements of each row alphabetically, ascending. Determine if the columns are also in ascending alphabetical order, top to bottom. Return YES if they are or NO if they are not.\n",
    "\n",
    "\n",
    "\n",
    "Algorithm: \n",
    "    Here are the steps for the algorithm used in the above code:\n",
    "\n",
    "    1. Take a grid (a list of strings) as an input\n",
    "    2. Sort each string in the grid using the sorted() function and join the sorted characters using join() method.\n",
    "    3. Initialize empty lists for each column and iterate through each sorted string in the grid, adding each character to the appropriate column list.\n",
    "    4. Join the characters in each column list into a single string using join() method.\n",
    "    5. Initialize a count variable to keep track of the number of sorted strings.\n",
    "    6. Iterate through each string in the column list, using the sorted() function to check if the string is sorted or not, incrementing the count if it is.\n",
    "    7. Compare the count with the total number of column strings.\n",
    "    8. Return 'YES' if all strings are sorted, 'NO' otherwise\n",
    "    \n",
    "This algorithm aims to solve the problem of checking whether the given grid is sorted by columns or not. By sorting each row and comparing the columns to their sorted version, it can determine if all the columns are sorted or not.\n",
    "\n",
    "\n",
    "\n",
    "Implementation: 👇"
   ]
  },
  {
   "cell_type": "code",
   "execution_count": 193,
   "id": "0abfee2e",
   "metadata": {},
   "outputs": [],
   "source": [
    "#!/bin/python3\n",
    "\n",
    "import math\n",
    "import os\n",
    "import random\n",
    "import re\n",
    "import sys\n",
    "\n",
    "#\n",
    "# Complete the 'gridChallenge' function below.\n",
    "#\n",
    "# The function is expected to return a STRING.\n",
    "# The function accepts STRING_ARRAY grid as parameter.\n",
    "\n",
    "def gridChallenge(grid):\n",
    "    # Sort each string in the grid\n",
    "    sort = [\"\".join(sorted(g)) for g in grid]    \n",
    "    \n",
    "    # Initialize empty lists for each column\n",
    "    cols = [[] for _ in range(len(sort[0]))] \n",
    "\n",
    "    # Iterate through each sorted string in the grid\n",
    "    for row in sort:\n",
    "        # Iterate through each character in the current sorted string\n",
    "        for i, col in enumerate(row):\n",
    "            # Add the current character to the appropriate column list\n",
    "            cols[i].append(col)\n",
    "\n",
    "    # Join the characters in each column list into a single string\n",
    "    cols_string = [\"\".join(map(str,col)) for col in cols]\n",
    "    \n",
    "    # Initialize a count to keep track of the number of sorted strings\n",
    "    count = 0\n",
    "    # Iterate through each string in the column list\n",
    "    for string in cols_string:\n",
    "        # Check if the current string is sorted\n",
    "        if string == \"\".join(sorted(string)):\n",
    "            # If the string is sorted, increment the count\n",
    "            count +=1\n",
    "    # Return 'YES' if all strings are sorted, 'NO' otherwise\n",
    "    return 'YES' if count == len(cols_string) else 'NO'   \n",
    "\n",
    "\n",
    "\n",
    "\n",
    "        \n",
    "    \n"
   ]
  },
  {
   "cell_type": "code",
   "execution_count": 194,
   "id": "2e70513f",
   "metadata": {},
   "outputs": [
    {
     "data": {
      "text/plain": [
       "'YES'"
      ]
     },
     "execution_count": 194,
     "metadata": {},
     "output_type": "execute_result"
    }
   ],
   "source": [
    "grid = ['ebacd', 'fghij', 'olmkn', 'trpqs', 'xywuv']\n",
    "gridChallenge(grid)\n"
   ]
  }
 ],
 "metadata": {
  "kernelspec": {
   "display_name": "Python 3 (ipykernel)",
   "language": "python",
   "name": "python3"
  },
  "language_info": {
   "codemirror_mode": {
    "name": "ipython",
    "version": 3
   },
   "file_extension": ".py",
   "mimetype": "text/x-python",
   "name": "python",
   "nbconvert_exporter": "python",
   "pygments_lexer": "ipython3",
   "version": "3.10.9"
  }
 },
 "nbformat": 4,
 "nbformat_minor": 5
}
