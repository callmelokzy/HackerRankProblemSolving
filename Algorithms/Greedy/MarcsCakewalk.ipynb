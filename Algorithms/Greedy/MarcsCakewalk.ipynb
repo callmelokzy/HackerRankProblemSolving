{
 "cells": [
  {
   "cell_type": "markdown",
   "id": "90039753",
   "metadata": {},
   "source": [
    "## Marc's Cakewalk\n",
    "\n",
    "___________________________________________________________________\n",
    "\n",
    "Problem: https://www.hackerrank.com/challenges/marcs-cakewalk/problem?isFullScreen=false\n",
    "\n",
    "\n",
    "Task: Given the individual calorie counts for each of the cupcakes, determine the minimum number of miles Marc must walk to maintain his weight.\n",
    "\n",
    "\n",
    "Implementation:👇"
   ]
  },
  {
   "cell_type": "code",
   "execution_count": 16,
   "id": "af6f9e89",
   "metadata": {},
   "outputs": [],
   "source": [
    "#!/bin/python3\n",
    "\n",
    "import math\n",
    "import os\n",
    "import random\n",
    "import re\n",
    "import sys\n",
    "\n",
    "#\n",
    "# Complete the 'marcsCakewalk' function below.\n",
    "#\n",
    "# The function is expected to return a LONG_INTEGER.\n",
    "# The function accepts INTEGER_ARRAY calorie as parameter.\n",
    "#\n",
    "\n",
    "def marcsCakewalk(calorie):\n",
    "    \n",
    "    calorie.sort(reverse=True)    \n",
    "    cals = ([2**i * calorie[i] for i in range(len(calorie))])\n",
    "    return sum(cals)\n",
    "    \n",
    "    \n",
    "    \n",
    "    \n",
    "    "
   ]
  },
  {
   "cell_type": "code",
   "execution_count": 17,
   "id": "7f20ffdb",
   "metadata": {},
   "outputs": [
    {
     "data": {
      "text/plain": [
       "79"
      ]
     },
     "execution_count": 17,
     "metadata": {},
     "output_type": "execute_result"
    }
   ],
   "source": [
    "#sample inputs\n",
    "calorie = [7, 4, 9, 6]\n",
    "marcsCakewalk(calorie)"
   ]
  },
  {
   "cell_type": "code",
   "execution_count": 18,
   "id": "4f00cbf9",
   "metadata": {},
   "outputs": [
    {
     "data": {
      "text/plain": [
       "11"
      ]
     },
     "execution_count": 18,
     "metadata": {},
     "output_type": "execute_result"
    }
   ],
   "source": [
    "#sample inputs\n",
    "calorie = [1,3,2]\n",
    "marcsCakewalk(calorie)"
   ]
  },
  {
   "cell_type": "code",
   "execution_count": 19,
   "id": "0c348911",
   "metadata": {},
   "outputs": [
    {
     "data": {
      "text/plain": [
       "44"
      ]
     },
     "execution_count": 19,
     "metadata": {},
     "output_type": "execute_result"
    }
   ],
   "source": [
    "#sample inputs\n",
    "calorie = [5,10,7]\n",
    "marcsCakewalk(calorie)"
   ]
  }
 ],
 "metadata": {
  "kernelspec": {
   "display_name": "Python 3 (ipykernel)",
   "language": "python",
   "name": "python3"
  },
  "language_info": {
   "codemirror_mode": {
    "name": "ipython",
    "version": 3
   },
   "file_extension": ".py",
   "mimetype": "text/x-python",
   "name": "python",
   "nbconvert_exporter": "python",
   "pygments_lexer": "ipython3",
   "version": "3.10.9"
  }
 },
 "nbformat": 4,
 "nbformat_minor": 5
}
