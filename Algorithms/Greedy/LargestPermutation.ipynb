{
 "cells": [
  {
   "cell_type": "markdown",
   "id": "37727d97",
   "metadata": {},
   "source": [
    "## Largest Permutation\n",
    "\n",
    "\n",
    "___________________________________________________________________\n",
    "\n",
    "Problem: https://www.hackerrank.com/challenges/largest-permutation/problem?isFullScreen=true\n",
    "\n",
    "\n",
    "Task:  Determine the largest lexicographical value array that can be created by executing no more than the limited number of swaps.\n",
    "\n",
    "\n",
    "Algorithm:\n",
    "\n",
    "        1. Create a dictionary to map the element to its index\n",
    "        2. Initialize a counter for the number of swaps performed\n",
    "        3. Iterate through the array\n",
    "        4. Check if the current element is smaller than the next greatest element\n",
    "        5. If yes, swap the current element with the next greatest element\n",
    "        6. Update the dictionary with the new indices\n",
    "        7. Increase the counter for the number of swaps performed\n",
    "        8. Exit the loop if the maximum number of swaps is reached\n",
    "        9. Return the modified array\n",
    "\n",
    "\n",
    "Implementation: 👇"
   ]
  },
  {
   "cell_type": "code",
   "execution_count": 92,
   "id": "cda2ab23",
   "metadata": {},
   "outputs": [],
   "source": [
    "#!/bin/python3\n",
    "\n",
    "import math\n",
    "import os\n",
    "import random\n",
    "import re\n",
    "import sys\n",
    "\n",
    "#\n",
    "# Complete the 'largestPermutation' function below.\n",
    "#\n",
    "# The function is expected to return an INTEGER_ARRAY.\n",
    "# The function accepts following parameters:\n",
    "#  1. INTEGER k\n",
    "#  2. INTEGER_ARRAY arr\n",
    "#\n",
    "\n",
    "def largestPermutation(k, arr):\n",
    "    # Create a dictionary to map the element to its index\n",
    "    dict_ = {}\n",
    "    \n",
    "    for i, a in enumerate(arr):\n",
    "        dict_[a] = i\n",
    "        \n",
    "    # Initialize a counter for the number of swaps performed\n",
    "    cnt = 0\n",
    "    \n",
    "    n = len(arr)\n",
    "    for i in range(n):\n",
    "        # Exit the loop if the maximum number of swaps is reached\n",
    "        if cnt == k:\n",
    "            break\n",
    "        v = arr[i]\n",
    "        # Check if the current element is smaller than the next greatest element\n",
    "        if v < n - i:\n",
    "            # Swap the current element with the next greatest element\n",
    "            arr[i], arr[dict_[n-i]] = arr[dict_[n-i]], arr[i]\n",
    "            # Update the dictionary with the new indices\n",
    "            dict_[v], dict_[n-i] = dict_[n-i], dict_[v]\n",
    "            cnt += 1\n",
    "    return arr\n",
    "\n",
    "    \n",
    "    "
   ]
  },
  {
   "cell_type": "code",
   "execution_count": 93,
   "id": "a230671d",
   "metadata": {},
   "outputs": [
    {
     "data": {
      "text/plain": [
       "[5, 2, 3, 4, 1]"
      ]
     },
     "execution_count": 93,
     "metadata": {},
     "output_type": "execute_result"
    }
   ],
   "source": [
    "k = 1\n",
    "arr = [4, 2, 3, 5, 1]\n",
    "largestPermutation(k,arr)"
   ]
  },
  {
   "cell_type": "code",
   "execution_count": 94,
   "id": "42bafdae",
   "metadata": {},
   "outputs": [
    {
     "data": {
      "text/plain": [
       "[2, 1]"
      ]
     },
     "execution_count": 94,
     "metadata": {},
     "output_type": "execute_result"
    }
   ],
   "source": [
    "k = 1\n",
    "arr = [2,1]\n",
    "largestPermutation(k,arr)"
   ]
  },
  {
   "cell_type": "code",
   "execution_count": 96,
   "id": "65336a54",
   "metadata": {},
   "outputs": [
    {
     "data": {
      "text/plain": [
       "[3, 1, 2]"
      ]
     },
     "execution_count": 96,
     "metadata": {},
     "output_type": "execute_result"
    }
   ],
   "source": [
    "k = 1\n",
    "arr = [2,1,3]\n",
    "largestPermutation(k,arr)"
   ]
  }
 ],
 "metadata": {
  "kernelspec": {
   "display_name": "Python 3 (ipykernel)",
   "language": "python",
   "name": "python3"
  },
  "language_info": {
   "codemirror_mode": {
    "name": "ipython",
    "version": 3
   },
   "file_extension": ".py",
   "mimetype": "text/x-python",
   "name": "python",
   "nbconvert_exporter": "python",
   "pygments_lexer": "ipython3",
   "version": "3.10.9"
  }
 },
 "nbformat": 4,
 "nbformat_minor": 5
}
