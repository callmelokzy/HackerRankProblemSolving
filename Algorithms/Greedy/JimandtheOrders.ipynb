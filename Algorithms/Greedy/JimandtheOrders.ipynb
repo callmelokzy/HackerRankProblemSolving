{
 "cells": [
  {
   "cell_type": "markdown",
   "id": "37727d97",
   "metadata": {},
   "source": [
    "## Jim and the Orders\n",
    "\n",
    "\n",
    "___________________________________________________________________\n",
    "\n",
    "Problem: https://www.hackerrank.com/challenges/jim-and-the-orders/problem?isFullScreen=true\n",
    "\n",
    "Task:  Determine the order the customers receive their orders.\n",
    "\n",
    "\n",
    "\n",
    "Algorithm:\n",
    "\n",
    "        1. iterate over the orders list using enumerate function\n",
    "        2. append the order number to the order\n",
    "        3. sort the orders list based on the sum of delivery and preparation time\n",
    "        4. return the order numbers from the sorted list\n",
    "        \n",
    "TimeComplexity: O(n log n)   Space Complexity: O(1)\n",
    "\n",
    "\n",
    "Implementation: 👇"
   ]
  },
  {
   "cell_type": "code",
   "execution_count": 82,
   "id": "cda2ab23",
   "metadata": {},
   "outputs": [],
   "source": [
    "#!/bin/python3\n",
    "\n",
    "import math\n",
    "import os\n",
    "import random\n",
    "import re\n",
    "import sys\n",
    "\n",
    "#\n",
    "# Complete the 'jimOrders' function below.\n",
    "#\n",
    "# The function is expected to return an INTEGER_ARRAY.\n",
    "# The function accepts 2D_INTEGER_ARRAY orders as parameter.\n",
    "#\n",
    "\n",
    "def jimOrders(orders):\n",
    "    \n",
    "    for i, order in enumerate(orders):\n",
    "        order.append(i+1)\n",
    "    orders.sort(key=lambda x: x[0] + x[1])\n",
    "    return [order[2] for order in orders]\n",
    "    "
   ]
  },
  {
   "cell_type": "code",
   "execution_count": 83,
   "id": "bec1ff4b",
   "metadata": {},
   "outputs": [
    {
     "data": {
      "text/plain": [
       "[4, 2, 5, 1, 3]"
      ]
     },
     "execution_count": 83,
     "metadata": {},
     "output_type": "execute_result"
    }
   ],
   "source": [
    "orders = [[8, 1],[4 ,2],[5, 6],[3, 1],[4, 3]]\n",
    "jimOrders(orders)"
   ]
  },
  {
   "cell_type": "code",
   "execution_count": 84,
   "id": "3bb11932",
   "metadata": {},
   "outputs": [
    {
     "data": {
      "text/plain": [
       "[1, 2, 3]"
      ]
     },
     "execution_count": 84,
     "metadata": {},
     "output_type": "execute_result"
    }
   ],
   "source": [
    "orders = [[1, 3],[2, 3],[3, 3]]\n",
    "jimOrders(orders)"
   ]
  }
 ],
 "metadata": {
  "kernelspec": {
   "display_name": "Python 3 (ipykernel)",
   "language": "python",
   "name": "python3"
  },
  "language_info": {
   "codemirror_mode": {
    "name": "ipython",
    "version": 3
   },
   "file_extension": ".py",
   "mimetype": "text/x-python",
   "name": "python",
   "nbconvert_exporter": "python",
   "pygments_lexer": "ipython3",
   "version": "3.10.9"
  }
 },
 "nbformat": 4,
 "nbformat_minor": 5
}
