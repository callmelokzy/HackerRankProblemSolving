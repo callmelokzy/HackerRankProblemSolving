{
 "cells": [
  {
   "cell_type": "markdown",
   "id": "37727d97",
   "metadata": {},
   "source": [
    "## Beautiful Pair\n",
    "\n",
    "___________________________________________________________________\n",
    "\n",
    "Problem: https://www.hackerrank.com/challenges/beautiful-pairs/problem?isFullScreen=false\n",
    "\n",
    "\n",
    "Task: Your task is to change exactly1  element in B so that the size of the pairwise disjoint beautiful set is maximum.\n",
    "\n",
    "\n",
    "Algorithm: \n",
    "\n",
    "        1. Create an empty list called l which will store the pairs of matching elements\n",
    "        2. Iterate over the elements of A.\n",
    "        3. Check if the current element of A is in B\n",
    "        4. If the element is in B, get its index in B and append the pair (index in A, index in B) to the list l.\n",
    "        5. Set the element in B to -1 so it cannot be used again\n",
    "        6, Check if the number of pairs is less than the length of A and B.\n",
    "        7. If yes, return the number of pairs plus 1.\n",
    "        8. If no, return the number of pairs minus 1.\n",
    "        \n",
    "        \n",
    "\n",
    "\n",
    "\n",
    "Implementation: 👇"
   ]
  },
  {
   "cell_type": "code",
   "execution_count": 56,
   "id": "cda2ab23",
   "metadata": {},
   "outputs": [],
   "source": [
    "#!/bin/python3\n",
    "\n",
    "import math\n",
    "import os\n",
    "import random\n",
    "import re\n",
    "import sys\n",
    "\n",
    "#\n",
    "# Complete the 'beautifulPairs' function below.\n",
    "#\n",
    "# The function is expected to return an INTEGER.\n",
    "# The function accepts following parameters:\n",
    "#  1. INTEGER_ARRAY A\n",
    "#  2. INTEGER_ARRAY B\n",
    "#\n",
    "\n",
    "\n",
    "def beautifulPairs(A, B):\n",
    "    \n",
    "    # Create an empty list to store the pairs\n",
    "    l = []\n",
    "    \n",
    "    # Iterate over the elements of A\n",
    "    for i in range(len(A)):\n",
    "        # Check if the current element of A is in B\n",
    "        if A[i] in B:\n",
    "            # If the element is in B, get its index in B\n",
    "            j = B.index(A[i])\n",
    "            # Append the pair to the list\n",
    "            l.append((i,j))\n",
    "            # Set the element in B to -1 so it cannot be used again\n",
    "            B[j] = -1\n",
    "            \n",
    "    # Check if the number of pairs is less than the length of A and B\n",
    "    if len(l) < len(A) and len(l) < len(B):\n",
    "        # If yes, return the number of pairs plus 1\n",
    "        return len(l) + 1\n",
    "    else:\n",
    "        # If no, return the number of pairs minus 1\n",
    "        return len(l) - 1\n",
    "  \n",
    "        \n",
    "\n",
    "    \n",
    "    #By setting the element in B to -1, it will no longer be considered when iterating through the elements of A, thus preventing the formation of duplicate pairs."
   ]
  },
  {
   "cell_type": "code",
   "execution_count": 57,
   "id": "aeb0d2c4",
   "metadata": {},
   "outputs": [
    {
     "data": {
      "text/plain": [
       "4"
      ]
     },
     "execution_count": 57,
     "metadata": {},
     "output_type": "execute_result"
    }
   ],
   "source": [
    "A =[1, 2, 3, 4]\n",
    "B = [1, 2, 3, 3]\n",
    "beautifulPairs(A,B)"
   ]
  },
  {
   "cell_type": "code",
   "execution_count": 58,
   "id": "abe6d9e2",
   "metadata": {},
   "outputs": [
    {
     "data": {
      "text/plain": [
       "6"
      ]
     },
     "execution_count": 58,
     "metadata": {},
     "output_type": "execute_result"
    }
   ],
   "source": [
    "A =[3, 5, 7, 11, 5, 8]\n",
    "B = [5, 7, 11, 10, 5, 8]\n",
    "beautifulPairs(A,B)"
   ]
  }
 ],
 "metadata": {
  "kernelspec": {
   "display_name": "Python 3 (ipykernel)",
   "language": "python",
   "name": "python3"
  },
  "language_info": {
   "codemirror_mode": {
    "name": "ipython",
    "version": 3
   },
   "file_extension": ".py",
   "mimetype": "text/x-python",
   "name": "python",
   "nbconvert_exporter": "python",
   "pygments_lexer": "ipython3",
   "version": "3.10.9"
  }
 },
 "nbformat": 4,
 "nbformat_minor": 5
}
