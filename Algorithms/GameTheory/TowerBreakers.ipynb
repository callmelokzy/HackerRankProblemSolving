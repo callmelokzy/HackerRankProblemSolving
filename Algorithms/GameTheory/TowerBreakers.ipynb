{
 "cells": [
  {
   "attachments": {},
   "cell_type": "markdown",
   "metadata": {},
   "source": [
    "##  Tower Breakers\n",
    "\n",
    "Problem: https://www.hackerrank.com/challenges/tower-breakers-1/problem?isFullScreen=true\n",
    "\n",
    "Task: Given the values of  and , determine which player will win. If the first player wins, return . Otherwise, return .\n",
    "\n",
    "Solution:"
   ]
  },
  {
   "cell_type": "code",
   "execution_count": null,
   "metadata": {},
   "outputs": [],
   "source": [
    "#!/bin/python3\n",
    "\n",
    "import math\n",
    "import os\n",
    "import random\n",
    "import re\n",
    "import sys\n",
    "\n",
    "#\n",
    "# Complete the 'towerBreakers' function below.\n",
    "#\n",
    "# The function is expected to return an INTEGER.\n",
    "# The function accepts following parameters:\n",
    "#  1. INTEGER n\n",
    "#  2. INTEGER m\n",
    "#\n",
    "def towerBreakers(n, m):\n",
    "    # Write your code here\n",
    "    while n >1 and m>1:\n",
    "    \n",
    "        if n%2==0 and m%2==0:\n",
    "            return 2\n",
    "        elif n%2==0 and m%2!=0:\n",
    "            return 2\n",
    "        elif n%2!=0 and m%2==0:\n",
    "            return 1\n",
    "        elif n%2!=0 and m%2!=0:\n",
    "            return 1 \n",
    "    else: \n",
    "        if n==1: \n",
    "            return 1\n",
    "        else:\n",
    "            return 2"
   ]
  }
 ],
 "metadata": {
  "kernelspec": {
   "display_name": "Python 3",
   "language": "python",
   "name": "python3"
  },
  "language_info": {
   "name": "python",
   "version": "3.10.6 (main, Nov 14 2022, 16:10:14) [GCC 11.3.0]"
  },
  "orig_nbformat": 4,
  "vscode": {
   "interpreter": {
    "hash": "916dbcbb3f70747c44a77c7bcd40155683ae19c65e1c03b4aa3499c5328201f1"
   }
  }
 },
 "nbformat": 4,
 "nbformat_minor": 2
}
