{
 "cells": [
  {
   "attachments": {},
   "cell_type": "markdown",
   "metadata": {},
   "source": [
    "## Misère Nim\n",
    "\n",
    "Problem: https://www.hackerrank.com/challenges/misere-nim-1/problem?isFullScreen=true\n",
    "\n",
    "Task:  Given the value of  and the number of stones in each pile, determine whether the person who wins the game is the first or second person to move. If the first player to move wins, print First on a new line; otherwise, print Second. Assume both players move optimally.\n",
    "\n",
    "\n",
    "Solution:"
   ]
  },
  {
   "cell_type": "code",
   "execution_count": null,
   "metadata": {},
   "outputs": [],
   "source": [
    "#!/bin/python3\n",
    "\n",
    "import math\n",
    "import os\n",
    "import random\n",
    "import re\n",
    "import sys\n",
    "\n",
    "#\n",
    "# Complete the 'misereNim' function below.\n",
    "#\n",
    "# The function is expected to return a STRING.\n",
    "# The function accepts INTEGER_ARRAY s as parameter.\n",
    "#\n",
    "\n",
    "from functools import reduce\n",
    "\n",
    "def misereNim(s):\n",
    "    if (set(s)=={1}) and n%2==1:\n",
    "        return 'Second'\n",
    "    elif (set(s)=={1}) and n%2==0:\n",
    "        return 'First'\n",
    "    elif reduce((lambda x,y:x^y),s):\n",
    "        return 'First'\n",
    "    else:\n",
    "        return 'Second'"
   ]
  }
 ],
 "metadata": {
  "kernelspec": {
   "display_name": "Python 3",
   "language": "python",
   "name": "python3"
  },
  "language_info": {
   "name": "python",
   "version": "3.10.6 (main, Nov 14 2022, 16:10:14) [GCC 11.3.0]"
  },
  "orig_nbformat": 4,
  "vscode": {
   "interpreter": {
    "hash": "916dbcbb3f70747c44a77c7bcd40155683ae19c65e1c03b4aa3499c5328201f1"
   }
  }
 },
 "nbformat": 4,
 "nbformat_minor": 2
}
