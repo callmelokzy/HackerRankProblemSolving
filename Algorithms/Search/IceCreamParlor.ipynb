{
 "cells": [
  {
   "cell_type": "markdown",
   "id": "9392c066",
   "metadata": {},
   "source": [
    "## Ice Cream Parlor\n",
    "--------------------------\n",
    "\n",
    "[+] Problem: https://www.hackerrank.com/challenges/icecream-parlor/problem?isFullScreen=false\n",
    "\n",
    "\n",
    "[+] Task: Given a list of prices for the flavors of ice cream, select the two that will cost all of the money they have.\n",
    "\n",
    "\n",
    "[+] Algorithm:\n",
    "\n",
    "            1. Check of any sum of pairs equals to total money they have\n",
    "                1.1 if there is return the index of the values\n",
    "                nb* index value should start with 1, so we add +1 for each index in return statement\n",
    "\n",
    "\n",
    "[+] Implementation:"
   ]
  },
  {
   "cell_type": "code",
   "execution_count": 12,
   "id": "76e85263",
   "metadata": {},
   "outputs": [
    {
     "data": {
      "text/plain": [
       "[1, 4]"
      ]
     },
     "execution_count": 12,
     "metadata": {},
     "output_type": "execute_result"
    }
   ],
   "source": [
    "def icecreamParlor(m, arr):\n",
    "    for i in range(len(arr)-1):\n",
    "        for j in range(i+1,len(arr)):\n",
    "            if (arr[i]+arr[j]) == m:\n",
    "                    return[i+1,j+1]\n",
    "\n",
    "\n",
    "      \n",
    "#sample input\n",
    "m = 6\n",
    "cost = [1,3,4,5,6]\n",
    "icecreamParlor(m,cost)"
   ]
  }
 ],
 "metadata": {
  "kernelspec": {
   "display_name": "Python 3 (ipykernel)",
   "language": "python",
   "name": "python3"
  },
  "language_info": {
   "codemirror_mode": {
    "name": "ipython",
    "version": 3
   },
   "file_extension": ".py",
   "mimetype": "text/x-python",
   "name": "python",
   "nbconvert_exporter": "python",
   "pygments_lexer": "ipython3",
   "version": "3.11.1"
  }
 },
 "nbformat": 4,
 "nbformat_minor": 5
}
