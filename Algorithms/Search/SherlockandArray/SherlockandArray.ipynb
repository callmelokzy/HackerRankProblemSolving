{
 "cells": [
  {
   "cell_type": "markdown",
   "id": "27ae0486",
   "metadata": {},
   "source": [
    "## Sherlock and Array\n",
    "------------------------------\n",
    "\n",
    "[+] Problem: https://www.hackerrank.com/challenges/sherlock-and-array/problem?isFullScreen=true\n",
    "\n",
    "\n",
    "[+] Task: find an element of the array such that the sum of all elements to the left is equal to the sum of all elements to the right.\n",
    "\n",
    "\n",
    "[+] Algorithm:\n",
    "\n",
    "            1. Check if arr exist\n",
    "                1.1 if exist\n",
    "                1.2 loop each element in arr then initialize variable left = 0 and right = sum of elements after current element\n",
    "                        1.2.1 if left == right, retutn 'YES'\n",
    "                        1.2.2 At the end of the loop encrement left by current element left+= arr[i]\n",
    "            2. Return 'NO' if there is any index with left == right\n",
    "\n",
    "[+] Implementation:"
   ]
  },
  {
   "cell_type": "code",
   "execution_count": 39,
   "id": "ef277874",
   "metadata": {},
   "outputs": [
    {
     "data": {
      "text/plain": [
       "'YES'"
      ]
     },
     "execution_count": 39,
     "metadata": {},
     "output_type": "execute_result"
    }
   ],
   "source": [
    "def balancedSums(arr):\n",
    "    if len(arr)>0:\n",
    "        for i in range(len(arr)):\n",
    "            left, right = 0,arr[i+1:]\n",
    "            if left == sum(right):\n",
    "                return 'YES'\n",
    "            left += arr[i]\n",
    "    return 'NO'\n",
    "        \n",
    "    \n",
    "      \n",
    "#sample input\n",
    "arr = [1, 2, 3, 3]\n",
    "balancedSums(arr)\n"
   ]
  },
  {
   "cell_type": "code",
   "execution_count": null,
   "id": "9056696e",
   "metadata": {},
   "outputs": [],
   "source": []
  },
  {
   "cell_type": "code",
   "execution_count": null,
   "id": "4dce7ffb",
   "metadata": {},
   "outputs": [],
   "source": []
  }
 ],
 "metadata": {
  "kernelspec": {
   "display_name": "Python 3 (ipykernel)",
   "language": "python",
   "name": "python3"
  },
  "language_info": {
   "codemirror_mode": {
    "name": "ipython",
    "version": 3
   },
   "file_extension": ".py",
   "mimetype": "text/x-python",
   "name": "python",
   "nbconvert_exporter": "python",
   "pygments_lexer": "ipython3",
   "version": "3.11.1"
  }
 },
 "nbformat": 4,
 "nbformat_minor": 5
}
