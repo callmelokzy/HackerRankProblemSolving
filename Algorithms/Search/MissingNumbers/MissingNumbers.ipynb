{
 "cells": [
  {
   "cell_type": "markdown",
   "id": "edae8016",
   "metadata": {},
   "source": [
    "## Missing Numbers\n",
    "--------------------------\n",
    "\n",
    "[+] Problem: https://www.hackerrank.com/challenges/missing-numbers/problem?isFullScreen=true\n",
    "\n",
    "\n",
    "[+] Task: Given two arrays of integers, find which elements in the second array are missing from the first array.\n",
    "\n",
    "\n",
    "[+] Algorithm:\n",
    "\n",
    "            1. Find elements in both arrays(one copy each) and create an empty set for adding missing elements missings =[]\n",
    "            2. check count of each element in above elements in both arr and brr\n",
    "                2.1 If count is different append element in missings array\n",
    "             3. Return array od missings\n",
    "\n",
    "\n",
    "[+] Implementation:"
   ]
  },
  {
   "cell_type": "code",
   "execution_count": 22,
   "id": "d7866d5a",
   "metadata": {},
   "outputs": [
    {
     "data": {
      "text/plain": [
       "[3, 7, 8, 10, 12]"
      ]
     },
     "execution_count": 22,
     "metadata": {},
     "output_type": "execute_result"
    }
   ],
   "source": [
    "def missingNumbers(arr, brr):\n",
    "    missings = []\n",
    "    for ele in (set(arr).union(set(brr))):\n",
    "        if brr.count(ele) != arr.count(ele):\n",
    "            missings.append(ele)\n",
    "    return missings\n",
    "    \n",
    "\n",
    "\n",
    "      \n",
    "#sample input\n",
    "arr = [11, 4, 11, 7, 13, 4, 12, 11, 10, 14] # [203, 204, 205, 206, 207, 208, 203, 204, 205, 206]\n",
    "brr = [11, 4, 11, 7, 3, 7, 10, 13, 4, 8, 12, 11, 10, 14, 12] #[203, 204, 204, 205, 206, 207, 205, 208, 203, 206, 205, 206, 204]\n",
    "missingNumbers(arr,brr)\n"
   ]
  }
 ],
 "metadata": {
  "kernelspec": {
   "display_name": "Python 3 (ipykernel)",
   "language": "python",
   "name": "python3"
  },
  "language_info": {
   "codemirror_mode": {
    "name": "ipython",
    "version": 3
   },
   "file_extension": ".py",
   "mimetype": "text/x-python",
   "name": "python",
   "nbconvert_exporter": "python",
   "pygments_lexer": "ipython3",
   "version": "3.11.1"
  }
 },
 "nbformat": 4,
 "nbformat_minor": 5
}
