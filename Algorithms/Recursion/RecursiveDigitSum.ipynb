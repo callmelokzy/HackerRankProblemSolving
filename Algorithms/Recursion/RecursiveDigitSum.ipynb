{
 "cells": [
  {
   "attachments": {},
   "cell_type": "markdown",
   "metadata": {},
   "source": [
    "## Recursive Digit Sum\n",
    "\n",
    "Problem: https://www.hackerrank.com/challenges/recursive-digit-sum/problem?isFullScreen=true\n",
    "\n",
    "\n",
    "Task: Given an integer, we need to find the super digit of the integer.\n",
    "\n",
    "\n",
    "Solution:"
   ]
  },
  {
   "cell_type": "code",
   "execution_count": null,
   "metadata": {},
   "outputs": [],
   "source": [
    "#!/bin/python3\n",
    "\n",
    "import math\n",
    "import os\n",
    "import random\n",
    "import re\n",
    "import sys\n",
    "\n",
    "#\n",
    "# Complete the 'superDigit' function below.\n",
    "#\n",
    "# The function is expected to return an INTEGER.\n",
    "# The function accepts following parameters:\n",
    "#  1. STRING n\n",
    "#  2. INTEGER k\n",
    "#\n",
    "\n",
    "def superDigit(n, k):\n",
    "    P = str((sum([int(i) for i in n])*k))\n",
    "    return superDigit(P,1) if len(P) != 1 else P\n"
   ]
  }
 ],
 "metadata": {
  "language_info": {
   "name": "python"
  },
  "orig_nbformat": 4
 },
 "nbformat": 4,
 "nbformat_minor": 2
}
