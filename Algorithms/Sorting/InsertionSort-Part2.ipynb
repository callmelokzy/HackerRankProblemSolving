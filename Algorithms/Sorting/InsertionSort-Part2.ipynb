{
 "cells": [
  {
   "cell_type": "markdown",
   "id": "ffad1a02",
   "metadata": {
    "scrolled": true
   },
   "source": [
    "## InsertionSort-Part2\n",
    "---------------------------\n",
    "\n",
    "[+] Problem: https://www.hackerrank.com/challenges/insertionsort2/problem?isFullScreen=true\n",
    "\n",
    "\n",
    "[+] Task: Sort using Insertion Sort\n",
    "\n",
    "\n",
    "[+] Algorithm:\n",
    "\n",
    "\n",
    "[+] Implementation"
   ]
  },
  {
   "cell_type": "code",
   "execution_count": 3,
   "id": "0cd5eb4f",
   "metadata": {},
   "outputs": [
    {
     "name": "stdout",
     "output_type": "stream",
     "text": [
      "1 2 3 4 5 6 7\n"
     ]
    }
   ],
   "source": [
    "def insertionSort2(n, arr):\n",
    "    # Write your code here\n",
    "    for i in range(1,len(arr)):\n",
    "        temp=arr[i]\n",
    "        j=i-1\n",
    "        while j>=0 and temp<arr[j]:\n",
    "            arr[j+1]=arr[j]\n",
    "            j=j-1\n",
    "        arr[j+1]=temp \n",
    "    print(*arr)\n",
    "\n",
    "\n",
    "n = 7\n",
    "arr = [3,4,7,5,6,2,1]\n",
    "insertionSort2(n,arr)"
   ]
  }
 ],
 "metadata": {
  "kernelspec": {
   "display_name": "Python 3 (ipykernel)",
   "language": "python",
   "name": "python3"
  },
  "language_info": {
   "codemirror_mode": {
    "name": "ipython",
    "version": 3
   },
   "file_extension": ".py",
   "mimetype": "text/x-python",
   "name": "python",
   "nbconvert_exporter": "python",
   "pygments_lexer": "ipython3",
   "version": "3.11.1"
  }
 },
 "nbformat": 4,
 "nbformat_minor": 5
}
