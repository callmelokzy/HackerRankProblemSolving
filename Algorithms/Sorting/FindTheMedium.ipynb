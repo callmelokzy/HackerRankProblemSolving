{
 "cells": [
  {
   "cell_type": "markdown",
   "id": "a5aae5ac",
   "metadata": {},
   "source": [
    "## FIND THE MEDIUM \n",
    "-------------------------------\n",
    "\n",
    "\n",
    "[+] Problem: https://www.hackerrank.com/challenges/find-the-median/problem?isFullScreen=false\n",
    "\n",
    "\n",
    "[+] Task: Given a list of numbers with an odd number of elements, find the median\n",
    "\n",
    "\n",
    "[+] Algorithm:\n",
    "\n",
    "            1. Sort the input array\n",
    "            2. Find the middle index of sorted array\n",
    "            3. Return element at middle index                                 \n",
    "            \n",
    "            \n",
    "            \n",
    "[+] Implementation    "
   ]
  },
  {
   "cell_type": "code",
   "execution_count": 24,
   "id": "e6ee225f",
   "metadata": {},
   "outputs": [
    {
     "data": {
      "text/plain": [
       "3"
      ]
     },
     "execution_count": 24,
     "metadata": {},
     "output_type": "execute_result"
    }
   ],
   "source": [
    "def findMedian(arr):\n",
    "    arr.sort()\n",
    "    return(arr[len(arr)//2])\n",
    "    \n",
    "\n",
    "    \n",
    "\n",
    "#sample input\n",
    "arr = [0, 1, 2, 4, 6, 5, 3]\n",
    "findMedian(arr)"
   ]
  },
  {
   "cell_type": "code",
   "execution_count": null,
   "id": "eb65d569",
   "metadata": {},
   "outputs": [],
   "source": []
  }
 ],
 "metadata": {
  "kernelspec": {
   "display_name": "Python 3 (ipykernel)",
   "language": "python",
   "name": "python3"
  },
  "language_info": {
   "codemirror_mode": {
    "name": "ipython",
    "version": 3
   },
   "file_extension": ".py",
   "mimetype": "text/x-python",
   "name": "python",
   "nbconvert_exporter": "python",
   "pygments_lexer": "ipython3",
   "version": "3.11.1"
  }
 },
 "nbformat": 4,
 "nbformat_minor": 5
}
