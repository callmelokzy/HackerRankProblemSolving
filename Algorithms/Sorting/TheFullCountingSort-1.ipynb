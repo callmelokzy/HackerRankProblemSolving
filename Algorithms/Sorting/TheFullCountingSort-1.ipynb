{
 "cells": [
  {
   "attachments": {},
   "cell_type": "markdown",
   "metadata": {},
   "source": [
    "## TheFullCountingSort\n",
    "\n",
    "___________________________________________________________________\n",
    "\n",
    "Problem: https://www.hackerrank.com/challenges/countingsort4/problem\n",
    "\n",
    "\n",
    "Working: \n",
    "      This code defines a function called \"countSort\" that takes in a single parameter, \"arr\", which is a list of strings that are associated with integers.\n",
    "\n",
    "      The first line of the function iterates through the first half of the \"arr\" list and replaces the second element of each sublist (the string) with a dash ('-').\n",
    "\n",
    "      The next line sorts the \"arr\" list based on the first element of each sublist (the integer) using a lambda function.\n",
    "\n",
    "      Finally, the last line prints each second element of the sublists (the strings) in the sorted order.\n",
    "\n",
    "Implementation: 👇"
   ]
  },
  {
   "cell_type": "code",
   "execution_count": null,
   "metadata": {
    "vscode": {
     "languageId": "python"
    }
   },
   "outputs": [
    {
     "ename": "",
     "evalue": "",
     "output_type": "error",
     "traceback": [
      "\u001b[1;31mFailed to connect to the remote Jupyter Server 'http://127.0.0.1:8888/'. Verify the server is running and reachable. (request to http://127.0.0.1:8888/api/kernels?1674787688434 failed, reason: connect ECONNREFUSED 127.0.0.1:8888)."
     ]
    }
   ],
   "source": [
    "#!/bin/python3\n",
    "\n",
    "import math\n",
    "import os\n",
    "import random\n",
    "import re\n",
    "import sys\n",
    "\n",
    "#\n",
    "# Complete the 'countSort' function below.\n",
    "#\n",
    "# The function accepts 2D_STRING_ARRAY arr as parameter.\n",
    "#\n",
    "\n",
    "\n",
    "\n",
    "def countSort(arr):\n",
    "    for i in range(len(arr)//2):\n",
    "        arr[i][1] = '-'\n",
    "    arr.sort(key=lambda x: int(x[0]))\n",
    "    print(*[item[1] for item in arr])\n",
    "\n",
    "\n",
    "arr = [[0,'a'],[1,'b'],[0,'c'],[1,'d']]\n",
    "countSort(arr)"
   ]
  }
 ],
 "metadata": {
  "kernelspec": {
   "display_name": "Python 3 (ipykernel)",
   "language": "python",
   "name": "python3"
  },
  "orig_nbformat": 4
 },
 "nbformat": 4,
 "nbformat_minor": 2
}
