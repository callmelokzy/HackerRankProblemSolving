{
 "cells": [
  {
   "cell_type": "markdown",
   "id": "a6a816bc",
   "metadata": {},
   "source": [
    "<h1> INSERTION SORT - PART 1 </h1>\n",
    "\n",
    "Problem: https://www.hackerrank.com/challenges/insertionsort1/problem?isFullScreen=false\n",
    "\n",
    "<h3>Sorting </h3>\n",
    "One common task for computers is to sort data. For example, people might want to see all their files on a computer sorted by size. Since sorting is a simple problem with many different possible solutions, it is often used to introduce the study of algorithms.\n",
    "\n",
    "<h3>Insertion Sort</h3>\n",
    "These challenges will cover Insertion Sort, a simple and intuitive sorting algorithm. We will first start with a nearly sorted list.\n",
    "\n",
    "<h3>Insert element into sorted list</h3>\n",
    "Given a sorted list with an unsorted number e in the rightmost cell, can you write some simple code to insert e into the array so that it remains sorted?\n",
    "\n",
    "Since this is a learning exercise, it won't be the most efficient way of performing the insertion. It will instead demonstrate the brute-force method in detail.\n",
    "\n",
    "Assume you are given the array arr [1,2,3,4,5,3]  indexed 0...4. Store the value of arr[4] . Now test lower index values successively from 3 to 0 until you reach a value that is lower than arr[4], at arr[1] in this case. Each time your test fails, copy the value at the lower index to the current index and print your array. When the next lower indexed value is smaller than arr[4], insert the stored value at the current index and print the entire array.\n",
    "\n",
    "\n",
    "\n",
    "\n"
   ]
  },
  {
   "cell_type": "code",
   "execution_count": null,
   "id": "23ef4a9c",
   "metadata": {},
   "outputs": [],
   "source": [
    "[Implementation]"
   ]
  },
  {
   "cell_type": "code",
   "execution_count": 35,
   "id": "ad769e1c",
   "metadata": {},
   "outputs": [
    {
     "name": "stdout",
     "output_type": "stream",
     "text": [
      "1 2 3 4 5 "
     ]
    }
   ],
   "source": [
    "def insertionSort1(n, arr):\n",
    "    for i in range((n-1),0,-1):\n",
    "        if arr[i] < arr[i-1]:\n",
    "            tmp = arr[i]\n",
    "            arr[i] = arr[i-1]\n",
    "            print(*arr)\n",
    "            arr[i-1] = tmp\n",
    "    print(*arr)\n",
    "\n",
    "\n",
    "\n",
    "\n",
    "\n",
    "\n",
    "#sample\n",
    "n = 5\n",
    "arr = [1,2,4,5,3]\n",
    "insertionSort1(n,arr)"
   ]
  }
 ],
 "metadata": {
  "kernelspec": {
   "display_name": "Python 3 (ipykernel)",
   "language": "python",
   "name": "python3"
  },
  "language_info": {
   "codemirror_mode": {
    "name": "ipython",
    "version": 3
   },
   "file_extension": ".py",
   "mimetype": "text/x-python",
   "name": "python",
   "nbconvert_exporter": "python",
   "pygments_lexer": "ipython3",
   "version": "3.11.1"
  }
 },
 "nbformat": 4,
 "nbformat_minor": 5
}
