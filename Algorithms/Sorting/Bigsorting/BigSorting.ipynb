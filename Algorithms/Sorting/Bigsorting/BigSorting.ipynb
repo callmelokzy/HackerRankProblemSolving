{
 "cells": [
  {
   "cell_type": "markdown",
   "id": "a6a816bc",
   "metadata": {},
   "source": [
    "<h1> BIG SORTING </h1>\n",
    "\n",
    "Problem: https://www.hackerrank.com/challenges/big-sorting/problem?isFullScreen=true\n",
    "\n",
    "Consider an array of numeric strings where each string is a positive number with anywhere from 1 to 10^6 digits. Sort the array's elements in non-decreasing, or ascending order of their integer values and return the sorted array.\n",
    "\n",
    "\n",
    "\n"
   ]
  },
  {
   "cell_type": "code",
   "execution_count": null,
   "id": "23ef4a9c",
   "metadata": {},
   "outputs": [],
   "source": [
    "[Implementation]"
   ]
  },
  {
   "cell_type": "code",
   "execution_count": null,
   "id": "ad769e1c",
   "metadata": {},
   "outputs": [],
   "source": [
    "def bigSorting(unsorted):\n",
    "    return sorted(unsorted, key = int)\n",
    "\n",
    "\n",
    "\n",
    "\n",
    "\n",
    "#sample\n",
    "n = 5\n",
    "unsorted = [31415926535897932384626433832795,1,2,10,3,5]\n",
    "bigSorting(unsorted)"
   ]
  },
  {
   "cell_type": "code",
   "execution_count": null,
   "id": "f8c0e4e2",
   "metadata": {},
   "outputs": [],
   "source": []
  },
  {
   "cell_type": "code",
   "execution_count": null,
   "id": "0c75d1d5",
   "metadata": {},
   "outputs": [],
   "source": []
  }
 ],
 "metadata": {
  "kernelspec": {
   "display_name": "Python 3 (ipykernel)",
   "language": "python",
   "name": "python3"
  },
  "language_info": {
   "codemirror_mode": {
    "name": "ipython",
    "version": 3
   },
   "file_extension": ".py",
   "mimetype": "text/x-python",
   "name": "python",
   "nbconvert_exporter": "python",
   "pygments_lexer": "ipython3",
   "version": "3.11.1"
  }
 },
 "nbformat": 4,
 "nbformat_minor": 5
}
