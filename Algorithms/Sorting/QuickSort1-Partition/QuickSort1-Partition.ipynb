{
 "cells": [
  {
   "cell_type": "markdown",
   "id": "ffad1a02",
   "metadata": {
    "scrolled": true
   },
   "source": [
    "## Quick Sort 1\n",
    "---------------------------\n",
    "\n",
    "[+] Problem: https://www.hackerrank.com/challenges/quicksort1/problem?isFullScreen=true\n",
    "\n",
    "\n",
    "[+] Task: Sort QuickSort\n",
    "\n",
    "\n",
    "[+] Algorithm:\n",
    "\n",
    "\n",
    "[+] Implementation"
   ]
  },
  {
   "cell_type": "code",
   "execution_count": 5,
   "id": "0cd5eb4f",
   "metadata": {},
   "outputs": [
    {
     "name": "stdout",
     "output_type": "stream",
     "text": [
      "1 2 4 5 6 7 9\n"
     ]
    }
   ],
   "source": [
    "def quickSort(arr):\n",
    "    left, equal, right = [], [], []\n",
    "    for item in arr:\n",
    "        if item < arr[0]:\n",
    "            left.append(item)\n",
    "        elif item == arr[0]:\n",
    "            equal.append(item)\n",
    "        else:\n",
    "            right.append(item)\n",
    "    return left + equal + right   \n",
    "\n",
    "arr = [9,4,7,5,6,2,1]\n",
    "insertionSort2(n,arr)"
   ]
  },
  {
   "cell_type": "code",
   "execution_count": null,
   "id": "bbbe0d01",
   "metadata": {},
   "outputs": [],
   "source": []
  }
 ],
 "metadata": {
  "kernelspec": {
   "display_name": "Python 3 (ipykernel)",
   "language": "python",
   "name": "python3"
  },
  "language_info": {
   "codemirror_mode": {
    "name": "ipython",
    "version": 3
   },
   "file_extension": ".py",
   "mimetype": "text/x-python",
   "name": "python",
   "nbconvert_exporter": "python",
   "pygments_lexer": "ipython3",
   "version": "3.11.1"
  }
 },
 "nbformat": 4,
 "nbformat_minor": 5
}
