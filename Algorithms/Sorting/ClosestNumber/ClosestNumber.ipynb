{
 "cells": [
  {
   "cell_type": "markdown",
   "id": "1058e29b",
   "metadata": {},
   "source": [
    "## CLOSEST NUMBER \n",
    "-------------------------------\n",
    "\n",
    "\n",
    "[+] Problem: https://www.hackerrank.com/challenges/closest-numbers/problem?isFullScreen=false\n",
    "\n",
    "\n",
    "[+] Task: determine which pair or pairs of elements have the smallest absolute difference between them.\n",
    "\n",
    "\n",
    "[+] Algorithm:\n",
    "\n",
    "            1. Sort the input string\n",
    "            2. Take variable min_diff to store absolute difference between arr[1] and arr[0]\n",
    "            3.Create an empty (output =[])list to store elements with minimum difference\n",
    "                        3.1 check each pairs whose absolute difference are same as min_diff\n",
    "                                3.1.1 if same add those pairs into empty list output\n",
    "                                3.1.2 Else if absolute difference of an element is less than that of min_diff change min_diff's value as this new value and make output list eqauls to the pairs having the lowest absolute difference\n",
    "           4. Return sorted output list\n",
    "                                 \n",
    "            \n",
    "            \n",
    "            \n",
    "[+] Implementation    "
   ]
  },
  {
   "cell_type": "code",
   "execution_count": 17,
   "id": "9a233207",
   "metadata": {},
   "outputs": [
    {
     "data": {
      "text/plain": [
       "[-20, 30]"
      ]
     },
     "execution_count": 17,
     "metadata": {},
     "output_type": "execute_result"
    }
   ],
   "source": [
    "def closestNumbers(arr):\n",
    "    arr.sort()\n",
    "    min_diff = abs(arr[1]- arr[0])\n",
    "    output = []\n",
    "    for i in range(1,len(arr)):\n",
    "        if abs(arr[i]-arr[i-1]) == min_diff:\n",
    "            output.extend([arr[i], arr[i-1]])\n",
    "        elif abs(arr[i]-arr[i-1]) < min_diff:\n",
    "            min_diff = abs(arr[i]-arr[i-1])\n",
    "            output = [arr[i],arr[i-1]]\n",
    "    return sorted(output)\n",
    "\n",
    "    \n",
    "    \n",
    "\n",
    "#sample input\n",
    "arr = [-20, -3916237, -357920, -3620601, 7374819, -7330761, 30, 6246457, -6461594, 266854]\n",
    "closestNumbers(arr)"
   ]
  }
 ],
 "metadata": {
  "kernelspec": {
   "display_name": "Python 3 (ipykernel)",
   "language": "python",
   "name": "python3"
  },
  "language_info": {
   "codemirror_mode": {
    "name": "ipython",
    "version": 3
   },
   "file_extension": ".py",
   "mimetype": "text/x-python",
   "name": "python",
   "nbconvert_exporter": "python",
   "pygments_lexer": "ipython3",
   "version": "3.11.1"
  }
 },
 "nbformat": 4,
 "nbformat_minor": 5
}
