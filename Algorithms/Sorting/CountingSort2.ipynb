{
 "cells": [
  {
   "cell_type": "markdown",
   "id": "ffad1a02",
   "metadata": {
    "scrolled": true
   },
   "source": [
    "## COUNTING SORT2\n",
    "------------------------------\n",
    "\n",
    "[+] Problem: https://www.hackerrank.com/challenges/countingsort2/problem?isFullScreen=true\n",
    "\n",
    "[+] Task: Sort using counitng sort\n",
    "\n",
    "\n",
    "[+] Algorithm:\n",
    "\n",
    "        1. Find out the maximum element (let it be max) from the given array.\n",
    "        2. Initialize an array of length max+1 with all elements 0. This array is used for storing the count of the elements in the array.\n",
    "        3. Store the count of each element at their respective index in count array\n",
    "        4. Store cumulative sum of the elements of the count array. It helps in placing the elements into the correct index of the sorted array.\n",
    "        5. Find the index of each element of the original array in the count array. This gives the cumulative count. Place the element at the index calculated.\n",
    "        6. After placing each element at its correct position, decrease its count by one.\n",
    "\n",
    "\n",
    "\n",
    "[+] Implementation"
   ]
  },
  {
   "cell_type": "code",
   "execution_count": null,
   "id": "7114b29a",
   "metadata": {},
   "outputs": [],
   "source": [
    "def countingSort(arr):\n",
    "    sorted_arr = []\n",
    "    count_arr = [arr.count(i) for i in range(0, 100)]\n",
    "    for index, value in enumerate(count_arr):\n",
    "        for x in range(value):\n",
    "            sorted_arr.append(index)\n",
    "    return sorted_arr\n",
    "\n",
    "    \n",
    "    \n",
    "#sample input   \n",
    "arr = [63, 54, 17, 78, 43, 70, 32, 97, 16, 94, 74, 18, 60, 61, 35, 83, 13, 56, 75, 52, 70, 12, 24, 37, 17, 0, 16, 64, 34, 81, 82, 24, 69, 2, 30, 61, 83, 37, 97, 16, 70, 53, 0, 61, 12, 17, 97, 67, 33, 30, 49, 70, 11, 40, 67, 94, 84, 60, 35, 58, 19, 81, 16, 14, 68, 46, 42, 81, 75, 87, 13, 84, 33, 34, 14, 96, 7, 59, 17, 98, 79, 47, 71, 75, 8, 27, 73, 66, 64, 12, 29, 35, 80, 78, 80, 6, 5, 24, 49, 82]\n",
    "countingSort(arr)"
   ]
  }
 ],
 "metadata": {
  "kernelspec": {
   "display_name": "Python 3 (ipykernel)",
   "language": "python",
   "name": "python3"
  },
  "language_info": {
   "codemirror_mode": {
    "name": "ipython",
    "version": 3
   },
   "file_extension": ".py",
   "mimetype": "text/x-python",
   "name": "python",
   "nbconvert_exporter": "python",
   "pygments_lexer": "ipython3",
   "version": "3.11.1"
  }
 },
 "nbformat": 4,
 "nbformat_minor": 5
}
