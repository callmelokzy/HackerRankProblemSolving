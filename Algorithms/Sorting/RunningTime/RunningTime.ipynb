{
 "cells": [
  {
   "cell_type": "markdown",
   "id": "ffad1a02",
   "metadata": {
    "scrolled": true
   },
   "source": [
    "## RUNNIG TIME\n",
    "---------------------------\n",
    "\n",
    "[+] Problem: https://www.hackerrank.com/challenges/runningtime/problem?isFullScreen=true\n",
    "\n",
    "\n",
    "[+] Task: To find how many shifts taken to make the unsorted list to sorted using insertion sort\n",
    "\n",
    "\n",
    "[+] Algorithm:\n",
    "\n",
    "        1. Initialize varaible shift=0\n",
    "        2. Whenerver a shift occurs in insertion sort algorithm increment shifts by 1\n",
    "        3. return shifts\n",
    "\n",
    "\n",
    "[+] Implementation"
   ]
  },
  {
   "cell_type": "code",
   "execution_count": 1,
   "id": "0cd5eb4f",
   "metadata": {},
   "outputs": [
    {
     "data": {
      "text/plain": [
       "13"
      ]
     },
     "execution_count": 1,
     "metadata": {},
     "output_type": "execute_result"
    }
   ],
   "source": [
    "def runningTime(arr):\n",
    "    shifts = 0\n",
    "    for i in range(1,len(arr)):\n",
    "        key=arr[i]\n",
    "        j=i-1\n",
    "\n",
    "        while j>=0 and key<arr[j]:\n",
    "            arr[j+1]=arr[j]\n",
    "            shifts +=1\n",
    "            j=j-1\n",
    "        arr[j+1]=key\n",
    "    return shifts\n",
    "\n",
    "arr = [3,4,7,5,6,2,1]\n",
    "runningTime(arr)"
   ]
  },
  {
   "cell_type": "code",
   "execution_count": null,
   "id": "e335f9fa",
   "metadata": {},
   "outputs": [],
   "source": []
  }
 ],
 "metadata": {
  "kernelspec": {
   "display_name": "Python 3 (ipykernel)",
   "language": "python",
   "name": "python3"
  },
  "language_info": {
   "codemirror_mode": {
    "name": "ipython",
    "version": 3
   },
   "file_extension": ".py",
   "mimetype": "text/x-python",
   "name": "python",
   "nbconvert_exporter": "python",
   "pygments_lexer": "ipython3",
   "version": "3.11.1"
  }
 },
 "nbformat": 4,
 "nbformat_minor": 5
}
